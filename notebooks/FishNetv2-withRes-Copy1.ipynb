{
 "cells": [
  {
   "cell_type": "code",
   "execution_count": null,
   "metadata": {
    "ExecuteTime": {
     "end_time": "2018-05-17T12:40:11.547752Z",
     "start_time": "2018-05-17T12:40:09.434048Z"
    }
   },
   "outputs": [],
   "source": [
    "import tensorflow as tf\n",
    "import numpy as np\n",
    "from copy import deepcopy\n",
    "import matplotlib.pyplot as plt\n",
    "from IPython import display\n",
    "from keras.utils import to_categorical\n",
    "from sklearn import datasets\n",
    "# variable initialization functions\n",
    "def weight_variable(shape):\n",
    "    initial = tf.truncated_normal(shape, stddev=0.1)\n",
    "    return tf.Variable(initial)\n",
    "\n",
    "def bias_variable(shape):\n",
    "    initial = tf.constant(0.1, shape=shape)\n",
    "    return tf.Variable(initial)"
   ]
  },
  {
   "cell_type": "code",
   "execution_count": null,
   "metadata": {
    "ExecuteTime": {
     "end_time": "2018-05-17T12:40:13.511976Z",
     "start_time": "2018-05-17T12:40:13.339377Z"
    }
   },
   "outputs": [],
   "source": [
    "from plotly import tools\n",
    "import plotly.plotly as py\n",
    "import plotly.graph_objs as go\n",
    "from plotly.offline import download_plotlyjs, init_notebook_mode, plot, iplot\n",
    "import matplotlib.pyplot as plt\n",
    "\n",
    "def morphs(activations, labels, skip=2, last_layer=False):\n",
    "    #If last dimension is something other than 2, change it. otherwise 0.\n",
    "    trace_list = []\n",
    "    n_rows = 1 if ((len(activations)) < 10) else -(-len(activations)//10)\n",
    "    print(n_rows)\n",
    "    fig = tools.make_subplots(rows=n_rows, cols=(10))\n",
    "    last_dim = (2 if last_layer==False else 0)\n",
    "    for i in range(1, len(activations)-last_dim, skip):\n",
    "        print((-(-i//10)), i%10, i-1, (i//2)+1)\n",
    "        fig.append_trace(go.Scatter(x=activations[i-1][:,0], y = activations[i-1][:,1] , mode='markers', marker=dict(color=labels)), -(-i//10), (10 if i%10==0 else i%10))\n",
    "    fig['layout'].update(height=n_rows*300)\n",
    "    plot(fig)"
   ]
  },
  {
   "cell_type": "code",
   "execution_count": null,
   "metadata": {
    "ExecuteTime": {
     "end_time": "2018-05-17T12:40:28.077835Z",
     "start_time": "2018-05-17T12:40:27.888605Z"
    },
    "code_folding": [],
    "scrolled": true
   },
   "outputs": [],
   "source": [
    "n_residual_layers = 3\n",
    "n_fisher_layers = 2\n",
    "n_back_residuals = 1\n",
    "\n",
    "fisher_loss = 0\n",
    "\n",
    "lam = 1/500\n",
    "\n",
    "input_dim = 2\n",
    "output_dim = 2\n",
    "\n",
    "tf.reset_default_graph()\n",
    "x = tf.placeholder(tf.float32, shape=[None, 2], name='input')\n",
    "y_ = tf.placeholder(tf.float32, shape=[None, 2], name='output')\n",
    "weights = []\n",
    "biases = []\n",
    "hiddens = []\n",
    "\n",
    "weights.append(weight_variable([2,2]))\n",
    "biases.append(bias_variable([2]))    \n",
    "hiddens.append(tf.nn.relu(tf.add(x, tf.add(tf.matmul(x,weights[0]), biases[0]))))\n",
    "n_layers = n_residual_layers + n_fisher_layers\n",
    "\n",
    "if n_residual_layers:\n",
    "    for i in range(1, n_residual_layers+1):\n",
    "        weights.append(weight_variable([2,2]))\n",
    "        biases.append(bias_variable([2]))\n",
    "        #No Residuals\n",
    "        hiddens.append(tf.nn.tanh(tf.add(tf.matmul(hiddens[-1],weights[-1]), biases[-1]), name='hidden'+str(i)))\n",
    "        #If residuals needed\n",
    "        hiddens[-1] = tf.add(hiddens[-2], hiddens[-1])\n",
    "        print('Residual Layers done', i)\n",
    "\n",
    "if n_fisher_layers:\n",
    "    F_accum_weights = []\n",
    "    F_accum_biases = []\n",
    "    layer_loss = []\n",
    "    layer_param = np.linspace(1,100, n_layers)\n",
    "    for i in range(1+n_residual_layers, n_fisher_layers+n_residual_layers+1):\n",
    "        weights.append(weight_variable([2,2]))\n",
    "        biases.append(bias_variable([2]))\n",
    "        #No Residuals\n",
    "        hiddens.append(tf.nn.tanh(tf.add(tf.matmul(hiddens[-1],weights[-1]), biases[-1]), name='hidden'+str(i)))\n",
    "        #If residuals needed\n",
    "        hiddens[-1] = tf.add(hiddens[-2], hiddens[-1])\n",
    "        print('Fisher Layers done', i)\n",
    "    for i in range(1+n_residual_layers, n_fisher_layers+n_residual_layers+1):\n",
    "        with tf.name_scope('layer_fisher'):\n",
    "            ders_weights = tf.gradients(hiddens[i], weights[i])\n",
    "            ders_biases = tf.gradients(hiddens[i], biases[i])\n",
    "\n",
    "            F_accum_weights.append([tf.square(ders_weights)])\n",
    "            F_accum_biases.append([tf.square(ders_biases)])\n",
    "            #We need one run to be finished here. So need to run one loop before itself. \n",
    "            weight_sqrs = tf.square(weights[i] - weights[i-1])\n",
    "            bias_sqrs = tf.square(biases[i] - biases[i-1])\n",
    "\n",
    "            weight_leftout = tf.multiply(F_accum_weights[-1], weight_sqrs)\n",
    "            bias_leftout = tf.multiply(F_accum_biases[-1], bias_sqrs)\n",
    "\n",
    "            layer_loss.append((lam/2) * tf.reduce_sum(weight_leftout + bias_leftout))#tf.multiply(F_accum[i-1],tf.square(var_list[i] - var_list[i-1]))))\n",
    "        print('Loss Graph done', i)\n",
    "\n",
    "    with tf.name_scope('fisher_loss'):\n",
    "        fisher_loss += tf.reduce_mean(tf.convert_to_tensor(layer_loss))\n",
    "        tf.summary.scalar(name='fisher_loss', tensor=fisher_loss)\n",
    "        \n",
    "if n_back_residuals:\n",
    "    for i in range(1+n_fisher_layers+n_residual_layers, n_fisher_layers+n_residual_layers+n_back_residuals+1):\n",
    "        weights.append(weight_variable([2,1]))\n",
    "        biases.append(bias_variable([1]))\n",
    "        #No Residuals\n",
    "        hiddens.append(tf.nn.tanh(tf.add(tf.matmul(hiddens[-1],weights[-1]), biases[-1]), name='hidden'+str(i)))\n",
    "        #If residuals needed\n",
    "        hiddens[-1] = tf.add(hiddens[-2], hiddens[-1])\n",
    "        print('Back Residual Layers done', i)\n",
    "        \n",
    "        \n",
    "        \n",
    "\n",
    "        \n",
    "with tf.name_scope('final_output'):\n",
    "    y = tf.add(tf.matmul(hiddens[-1],weights[-1]),biases[-1]) # output layer\n",
    "with tf.name_scope('xtropy_loss'):\n",
    "    cross_entropy_loss = tf.reduce_mean(tf.nn.softmax_cross_entropy_with_logits_v2(labels=y_, logits=y))\n",
    "    tf.summary.scalar(name='xtropy_loss', tensor=cross_entropy_loss)\n",
    "    \n",
    "with tf.name_scope('total_loss'):\n",
    "    total_loss = fisher_loss + cross_entropy_loss\n",
    "    tf.summary.scalar(name='total_loss', tensor=total_loss)\n",
    "with tf.name_scope('optimization'):\n",
    "    train_step = tf.train.AdamOptimizer(0.01).minimize(total_loss)    \n",
    "    \n",
    "correct_prediction = tf.equal(tf.argmax(y,1), tf.argmax(y_,1))\n",
    "accuracy = tf.reduce_mean(tf.cast(correct_prediction, tf.float32))\n",
    "tf.summary.scalar(name='accuracy', tensor=accuracy)\n",
    "summ_op = tf.summary.merge_all()"
   ]
  },
  {
   "cell_type": "code",
   "execution_count": null,
   "metadata": {
    "ExecuteTime": {
     "end_time": "2018-05-17T12:40:00.070805Z",
     "start_time": "2018-05-17T12:40:00.057538Z"
    },
    "scrolled": true
   },
   "outputs": [],
   "source": [
    "from sklearn import datasets\n",
    "import numpy as np\n",
    "n_samples = 2000\n",
    "feat, labels = datasets.make_classification(n_features=2, n_redundant=0, n_informative=2, random_state=1, n_clusters_per_class=1, n_samples=n_samples)\n",
    "#feat, labels = datasets.make_moons(n_samples=n_samples, noise=0.05)\n",
    "#feat, labels = datasets.make_blobs(n_samples=n_samples)\n",
    "#labels = to_categorical(labels, num_classes=2)\n",
    "\n",
    "#labels = labels.reshape([-1,1])\n",
    "print(feat.shape, labels.shape)\n",
    "#((x,y) for zip(feat,labels) if labels==1)\n",
    "feat_small = feat[np.where(labels==1)]\n",
    "lab_small = np.zeros(feat_small.shape[0])\n",
    "print(feat_small.shape, lab_small.shape)\n",
    "#feat_small, label = ((x,y) for x,y in zip(feat,labels) if y==1)\n",
    "\n",
    "\n",
    "\n",
    "print(feat.shape, labels.shape)\n",
    "sess = tf.InteractiveSession()\n",
    "sess.run(tf.global_variables_initializer())\n",
    "writer = tf.summary.FileWriter('./fishnetlog/dataspace2x2/'+str(n_layers), sess.graph)\n",
    "for i in range(5000):\n",
    "    _, summar, accu = sess.run([train_step, summ_op, accuracy], feed_dict={x: feat_small, y_: lab_small})\n",
    "    writer.add_summary(summar, i)\n",
    "    if i%1000 == 0:\n",
    "        print('Step : ',i,' Accuracy : ',accu)\n",
    "    #print(accu)\n",
    "    #model.train_step.run(feed_dict={x: feat, y_: labels})\n",
    "    #print(sess.run([accuracy], feed_dict={x: feat, y_: labels}))"
   ]
  },
  {
   "cell_type": "code",
   "execution_count": null,
   "metadata": {
    "ExecuteTime": {
     "end_time": "2018-05-17T08:53:46.804518Z",
     "start_time": "2018-05-17T08:53:46.452347Z"
    }
   },
   "outputs": [],
   "source": [
    "activations = []\n",
    "activations.append(sess.run(x, feed_dict={x:feat}))\n",
    "for i in hiddens:\n",
    "    activations.append(sess.run(i, feed_dict={x:feat}))\n",
    "morphs(activations, np.argmax(labels, axis=1), skip=1, last_layer=True)"
   ]
  },
  {
   "cell_type": "code",
   "execution_count": null,
   "metadata": {
    "ExecuteTime": {
     "end_time": "2018-05-16T05:30:29.962440Z",
     "start_time": "2018-05-16T05:30:29.954294Z"
    }
   },
   "outputs": [],
   "source": [
    "from keras.utils import to_categorical\n",
    "from sklearn import datasets\n",
    "n_samples = 2000\n",
    "feat, labels = datasets.make_moons(n_samples=n_samples, noise=0.05)\n",
    "print(feat.shape, labels.shape)\n",
    "labels = to_categorical(labels, num_classes=2)\n",
    "print(feat.shape, labels.shape)"
   ]
  },
  {
   "cell_type": "code",
   "execution_count": null,
   "metadata": {
    "ExecuteTime": {
     "end_time": "2018-05-16T05:30:31.487397Z",
     "start_time": "2018-05-16T05:30:31.482665Z"
    }
   },
   "outputs": [],
   "source": [
    "hiddens"
   ]
  },
  {
   "cell_type": "code",
   "execution_count": null,
   "metadata": {
    "ExecuteTime": {
     "end_time": "2018-05-16T05:31:12.630595Z",
     "start_time": "2018-05-16T05:31:12.354047Z"
    }
   },
   "outputs": [],
   "source": [
    "\n",
    "    \n"
   ]
  },
  {
   "cell_type": "code",
   "execution_count": null,
   "metadata": {
    "ExecuteTime": {
     "end_time": "2018-05-16T05:31:14.726051Z",
     "start_time": "2018-05-16T05:31:14.464847Z"
    }
   },
   "outputs": [],
   "source": [
    "len(activations)\n",
    "print(activations[0].shape)\n",
    "morphs(activations, np.argmax(labels, axis=1), skip=1, last_layer=True)"
   ]
  },
  {
   "cell_type": "code",
   "execution_count": null,
   "metadata": {
    "ExecuteTime": {
     "end_time": "2018-05-16T07:13:48.428713Z",
     "start_time": "2018-05-16T07:13:48.422440Z"
    }
   },
   "outputs": [],
   "source": [
    "np.linspace(1,100, n_layers)"
   ]
  }
 ],
 "metadata": {
  "kernelspec": {
   "display_name": "Python 3",
   "language": "python",
   "name": "python3"
  },
  "language_info": {
   "codemirror_mode": {
    "name": "ipython",
    "version": 3
   },
   "file_extension": ".py",
   "mimetype": "text/x-python",
   "name": "python",
   "nbconvert_exporter": "python",
   "pygments_lexer": "ipython3",
   "version": "3.7.1"
  },
  "varInspector": {
   "cols": {
    "lenName": 16,
    "lenType": 16,
    "lenVar": 40
   },
   "kernels_config": {
    "python": {
     "delete_cmd_postfix": "",
     "delete_cmd_prefix": "del ",
     "library": "var_list.py",
     "varRefreshCmd": "print(var_dic_list())"
    },
    "r": {
     "delete_cmd_postfix": ") ",
     "delete_cmd_prefix": "rm(",
     "library": "var_list.r",
     "varRefreshCmd": "cat(var_dic_list()) "
    }
   },
   "types_to_exclude": [
    "module",
    "function",
    "builtin_function_or_method",
    "instance",
    "_Feature"
   ],
   "window_display": false
  }
 },
 "nbformat": 4,
 "nbformat_minor": 2
}

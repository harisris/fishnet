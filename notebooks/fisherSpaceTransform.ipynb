{
 "cells": [
  {
   "cell_type": "code",
   "execution_count": 1,
   "metadata": {
    "ExecuteTime": {
     "end_time": "2018-05-14T09:50:52.085006Z",
     "start_time": "2018-05-14T09:50:49.117849Z"
    }
   },
   "outputs": [
    {
     "name": "stderr",
     "output_type": "stream",
     "text": [
      "/usr/local/lib/python3.6/site-packages/h5py/__init__.py:36: FutureWarning: Conversion of the second argument of issubdtype from `float` to `np.floating` is deprecated. In future, it will be treated as `np.float64 == np.dtype(float).type`.\n",
      "  from ._conv import register_converters as _register_converters\n",
      "Using TensorFlow backend.\n"
     ]
    }
   ],
   "source": [
    "from sklearn import datasets\n",
    "import keras as K\n",
    "from keras import models\n",
    "from keras.layers import Dense\n",
    "from keras.utils import to_categorical\n",
    "import numpy as np\n",
    "from plotly import tools\n",
    "import plotly.plotly as py\n",
    "import plotly.graph_objs as go\n",
    "from plotly.offline import download_plotlyjs, init_notebook_mode, plot, iplot\n",
    "import matplotlib.pyplot as plt"
   ]
  },
  {
   "cell_type": "code",
   "execution_count": 4,
   "metadata": {
    "ExecuteTime": {
     "end_time": "2018-05-14T09:51:02.521138Z",
     "start_time": "2018-05-14T09:51:02.515661Z"
    }
   },
   "outputs": [
    {
     "name": "stdout",
     "output_type": "stream",
     "text": [
      "(2000, 2) (2000,)\n",
      "(2000, 2) (2000, 2)\n"
     ]
    }
   ],
   "source": [
    "n_samples = 2000\n",
    "feat, labels = datasets.make_moons(n_samples=n_samples, noise=0.05)\n",
    "print(feat.shape, labels.shape)\n",
    "labels = to_categorical(labels, num_classes=2)\n",
    "print(feat.shape, labels.shape)"
   ]
  },
  {
   "cell_type": "code",
   "execution_count": 7,
   "metadata": {
    "ExecuteTime": {
     "end_time": "2018-05-14T09:52:23.006666Z",
     "start_time": "2018-05-14T09:52:22.755203Z"
    }
   },
   "outputs": [
    {
     "data": {
      "text/plain": [
       "<matplotlib.collections.PathCollection at 0x11f0cb5c0>"
      ]
     },
     "execution_count": 7,
     "metadata": {},
     "output_type": "execute_result"
    },
    {
     "data": {
      "image/png": "[encoded data removed]",
      "text/plain": [
       "<matplotlib.figure.Figure at 0x11eeb5da0>"
      ]
     },
     "metadata": {},
     "output_type": "display_data"
    }
   ],
   "source": [
    "plt.scatter(feat[:,0], feat[:,1], c=np.argmax(labels, axis=1))"
   ]
  },
  {
   "cell_type": "code",
   "execution_count": 10,
   "metadata": {
    "ExecuteTime": {
     "end_time": "2018-05-14T09:52:56.034514Z",
     "start_time": "2018-05-14T09:52:56.031060Z"
    },
    "code_folding": []
   },
   "outputs": [],
   "source": [
    "def make_stack(n_layers=5):\n",
    "    model = models.Sequential()\n",
    "    for i in range(n_layers):\n",
    "        model.add(Dense(2, input_shape=(2,), activation='sigmoid'))\n",
    "    model.compile('adam', 'binary_crossentropy', metrics=['accuracy'])\n",
    "    return model"
   ]
  },
  {
   "cell_type": "code",
   "execution_count": 11,
   "metadata": {
    "ExecuteTime": {
     "end_time": "2018-05-14T09:52:58.274243Z",
     "start_time": "2018-05-14T09:52:58.087044Z"
    },
    "scrolled": true
   },
   "outputs": [
    {
     "name": "stdout",
     "output_type": "stream",
     "text": [
      "_________________________________________________________________\n",
      "Layer (type)                 Output Shape              Param #   \n",
      "=================================================================\n",
      "dense_1 (Dense)              (None, 2)                 6         \n",
      "_________________________________________________________________\n",
      "dense_2 (Dense)              (None, 2)                 6         \n",
      "_________________________________________________________________\n",
      "dense_3 (Dense)              (None, 2)                 6         \n",
      "_________________________________________________________________\n",
      "dense_4 (Dense)              (None, 2)                 6         \n",
      "_________________________________________________________________\n",
      "dense_5 (Dense)              (None, 2)                 6         \n",
      "_________________________________________________________________\n",
      "dense_6 (Dense)              (None, 2)                 6         \n",
      "_________________________________________________________________\n",
      "dense_7 (Dense)              (None, 2)                 6         \n",
      "_________________________________________________________________\n",
      "dense_8 (Dense)              (None, 2)                 6         \n",
      "_________________________________________________________________\n",
      "dense_9 (Dense)              (None, 2)                 6         \n",
      "_________________________________________________________________\n",
      "dense_10 (Dense)             (None, 2)                 6         \n",
      "_________________________________________________________________\n",
      "dense_11 (Dense)             (None, 2)                 6         \n",
      "_________________________________________________________________\n",
      "dense_12 (Dense)             (None, 2)                 6         \n",
      "_________________________________________________________________\n",
      "dense_13 (Dense)             (None, 2)                 6         \n",
      "_________________________________________________________________\n",
      "dense_14 (Dense)             (None, 2)                 6         \n",
      "_________________________________________________________________\n",
      "dense_15 (Dense)             (None, 2)                 6         \n",
      "_________________________________________________________________\n",
      "dense_16 (Dense)             (None, 2)                 6         \n",
      "_________________________________________________________________\n",
      "dense_17 (Dense)             (None, 2)                 6         \n",
      "_________________________________________________________________\n",
      "dense_18 (Dense)             (None, 2)                 6         \n",
      "_________________________________________________________________\n",
      "dense_19 (Dense)             (None, 2)                 6         \n",
      "_________________________________________________________________\n",
      "dense_20 (Dense)             (None, 2)                 6         \n",
      "=================================================================\n",
      "Total params: 120\n",
      "Trainable params: 120\n",
      "Non-trainable params: 0\n",
      "_________________________________________________________________\n"
     ]
    }
   ],
   "source": [
    "K.backend.clear_session()\n",
    "model = make_stack(20)\n",
    "model.summary()"
   ]
  },
  {
   "cell_type": "code",
   "execution_count": 12,
   "metadata": {
    "ExecuteTime": {
     "end_time": "2018-05-14T09:53:25.101744Z",
     "start_time": "2018-05-14T09:53:03.852888Z"
    }
   },
   "outputs": [
    {
     "name": "stdout",
     "output_type": "stream",
     "text": [
      "Epoch 1/100\n",
      "2000/2000 [==============================] - 1s 531us/step - loss: 0.6948 - acc: 0.5000\n",
      "Epoch 2/100\n",
      "2000/2000 [==============================] - 0s 85us/step - loss: 0.6937 - acc: 0.5000\n",
      "Epoch 3/100\n",
      "2000/2000 [==============================] - 0s 85us/step - loss: 0.6934 - acc: 0.5000\n",
      "Epoch 4/100\n",
      "2000/2000 [==============================] - 0s 85us/step - loss: 0.6933 - acc: 0.5000\n",
      "Epoch 5/100\n",
      "2000/2000 [==============================] - 0s 86us/step - loss: 0.6933 - acc: 0.5000\n",
      "Epoch 6/100\n",
      "2000/2000 [==============================] - 0s 87us/step - loss: 0.6933 - acc: 0.4875\n",
      "Epoch 7/100\n",
      "2000/2000 [==============================] - 0s 86us/step - loss: 0.6932 - acc: 0.5000\n",
      "Epoch 8/100\n",
      "2000/2000 [==============================] - 0s 86us/step - loss: 0.6932 - acc: 0.5000\n",
      "Epoch 9/100\n",
      "2000/2000 [==============================] - 0s 87us/step - loss: 0.6932 - acc: 0.5000\n",
      "Epoch 10/100\n",
      "2000/2000 [==============================] - 0s 87us/step - loss: 0.6933 - acc: 0.4900\n",
      "Epoch 11/100\n",
      "2000/2000 [==============================] - 0s 87us/step - loss: 0.6932 - acc: 0.4930\n",
      "Epoch 12/100\n",
      "2000/2000 [==============================] - 0s 85us/step - loss: 0.6932 - acc: 0.4800\n",
      "Epoch 13/100\n",
      "2000/2000 [==============================] - 0s 83us/step - loss: 0.6932 - acc: 0.5000\n",
      "Epoch 14/100\n",
      "2000/2000 [==============================] - 0s 88us/step - loss: 0.6932 - acc: 0.4835\n",
      "Epoch 15/100\n",
      "2000/2000 [==============================] - 0s 89us/step - loss: 0.6932 - acc: 0.4940\n",
      "Epoch 16/100\n",
      "2000/2000 [==============================] - 0s 88us/step - loss: 0.6932 - acc: 0.4875\n",
      "Epoch 17/100\n",
      "2000/2000 [==============================] - 0s 105us/step - loss: 0.6933 - acc: 0.4855\n",
      "Epoch 18/100\n",
      "2000/2000 [==============================] - 0s 96us/step - loss: 0.6932 - acc: 0.4885\n",
      "Epoch 19/100\n",
      "2000/2000 [==============================] - 0s 94us/step - loss: 0.6932 - acc: 0.5000\n",
      "Epoch 20/100\n",
      "2000/2000 [==============================] - 0s 88us/step - loss: 0.6932 - acc: 0.4860\n",
      "Epoch 21/100\n",
      "2000/2000 [==============================] - 0s 86us/step - loss: 0.6932 - acc: 0.4850\n",
      "Epoch 22/100\n",
      "2000/2000 [==============================] - 0s 87us/step - loss: 0.6933 - acc: 0.4830\n",
      "Epoch 23/100\n",
      "2000/2000 [==============================] - 0s 90us/step - loss: 0.6932 - acc: 0.4825\n",
      "Epoch 24/100\n",
      "2000/2000 [==============================] - 0s 91us/step - loss: 0.6932 - acc: 0.5000\n",
      "Epoch 25/100\n",
      "2000/2000 [==============================] - 0s 99us/step - loss: 0.6932 - acc: 0.4870\n",
      "Epoch 26/100\n",
      "2000/2000 [==============================] - 0s 92us/step - loss: 0.6933 - acc: 0.4935\n",
      "Epoch 27/100\n",
      "2000/2000 [==============================] - 0s 88us/step - loss: 0.6932 - acc: 0.4915\n",
      "Epoch 28/100\n",
      "2000/2000 [==============================] - 0s 91us/step - loss: 0.6932 - acc: 0.4930\n",
      "Epoch 29/100\n",
      "2000/2000 [==============================] - 0s 86us/step - loss: 0.6932 - acc: 0.4940\n",
      "Epoch 30/100\n",
      "2000/2000 [==============================] - 0s 89us/step - loss: 0.6932 - acc: 0.4780\n",
      "Epoch 31/100\n",
      "2000/2000 [==============================] - 0s 90us/step - loss: 0.6932 - acc: 0.5000\n",
      "Epoch 32/100\n",
      "2000/2000 [==============================] - 0s 94us/step - loss: 0.6933 - acc: 0.5000\n",
      "Epoch 33/100\n",
      "2000/2000 [==============================] - 0s 97us/step - loss: 0.6932 - acc: 0.4960\n",
      "Epoch 34/100\n",
      "2000/2000 [==============================] - 0s 86us/step - loss: 0.6932 - acc: 0.4945\n",
      "Epoch 35/100\n",
      "2000/2000 [==============================] - 0s 85us/step - loss: 0.6932 - acc: 0.4840\n",
      "Epoch 36/100\n",
      "2000/2000 [==============================] - 0s 85us/step - loss: 0.6932 - acc: 0.4840\n",
      "Epoch 37/100\n",
      "2000/2000 [==============================] - 0s 85us/step - loss: 0.6932 - acc: 0.4780\n",
      "Epoch 38/100\n",
      "2000/2000 [==============================] - 0s 87us/step - loss: 0.6932 - acc: 0.5005\n",
      "Epoch 39/100\n",
      "2000/2000 [==============================] - 0s 90us/step - loss: 0.6932 - acc: 0.5000\n",
      "Epoch 40/100\n",
      "2000/2000 [==============================] - 0s 89us/step - loss: 0.6932 - acc: 0.4990\n",
      "Epoch 41/100\n",
      "2000/2000 [==============================] - 0s 83us/step - loss: 0.6932 - acc: 0.4840\n",
      "Epoch 42/100\n",
      "2000/2000 [==============================] - 0s 83us/step - loss: 0.6932 - acc: 0.4970\n",
      "Epoch 43/100\n",
      "2000/2000 [==============================] - 0s 89us/step - loss: 0.6933 - acc: 0.5000\n",
      "Epoch 44/100\n",
      "2000/2000 [==============================] - 0s 96us/step - loss: 0.6934 - acc: 0.4900\n",
      "Epoch 45/100\n",
      "2000/2000 [==============================] - 0s 86us/step - loss: 0.6932 - acc: 0.4950\n",
      "Epoch 46/100\n",
      "2000/2000 [==============================] - 0s 84us/step - loss: 0.6932 - acc: 0.4875\n",
      "Epoch 47/100\n",
      "2000/2000 [==============================] - 0s 84us/step - loss: 0.6932 - acc: 0.4745\n",
      "Epoch 48/100\n",
      "2000/2000 [==============================] - 0s 86us/step - loss: 0.6932 - acc: 0.4940\n",
      "Epoch 49/100\n",
      "2000/2000 [==============================] - 0s 88us/step - loss: 0.6932 - acc: 0.4925\n",
      "Epoch 50/100\n",
      "2000/2000 [==============================] - 0s 85us/step - loss: 0.6932 - acc: 0.5000\n",
      "Epoch 51/100\n",
      "2000/2000 [==============================] - 0s 88us/step - loss: 0.6932 - acc: 0.4910\n",
      "Epoch 52/100\n",
      "2000/2000 [==============================] - 0s 97us/step - loss: 0.6932 - acc: 0.4965\n",
      "Epoch 53/100\n",
      "2000/2000 [==============================] - 0s 96us/step - loss: 0.6932 - acc: 0.5000\n",
      "Epoch 54/100\n",
      "2000/2000 [==============================] - 0s 99us/step - loss: 0.6932 - acc: 0.4985\n",
      "Epoch 55/100\n",
      "2000/2000 [==============================] - 0s 95us/step - loss: 0.6932 - acc: 0.5000\n",
      "Epoch 56/100\n",
      "2000/2000 [==============================] - 0s 95us/step - loss: 0.6932 - acc: 0.4915\n",
      "Epoch 57/100\n",
      "2000/2000 [==============================] - 0s 107us/step - loss: 0.6932 - acc: 0.4695\n",
      "Epoch 58/100\n",
      "2000/2000 [==============================] - 0s 104us/step - loss: 0.6932 - acc: 0.4890\n",
      "Epoch 59/100\n",
      "2000/2000 [==============================] - 0s 108us/step - loss: 0.6932 - acc: 0.4890\n",
      "Epoch 60/100\n",
      "2000/2000 [==============================] - 0s 102us/step - loss: 0.6932 - acc: 0.5000\n",
      "Epoch 61/100\n",
      "2000/2000 [==============================] - 0s 101us/step - loss: 0.6932 - acc: 0.4835\n",
      "Epoch 62/100\n",
      "2000/2000 [==============================] - 0s 101us/step - loss: 0.6932 - acc: 0.4810\n",
      "Epoch 63/100\n",
      "2000/2000 [==============================] - 0s 101us/step - loss: 0.6932 - acc: 0.4870\n",
      "Epoch 64/100\n",
      "2000/2000 [==============================] - 0s 94us/step - loss: 0.6933 - acc: 0.4870\n",
      "Epoch 65/100\n",
      "2000/2000 [==============================] - 0s 107us/step - loss: 0.6933 - acc: 0.4830\n",
      "Epoch 66/100\n",
      "2000/2000 [==============================] - 0s 116us/step - loss: 0.6933 - acc: 0.4835\n",
      "Epoch 67/100\n",
      "2000/2000 [==============================] - 0s 113us/step - loss: 0.6932 - acc: 0.4965\n",
      "Epoch 68/100\n",
      "2000/2000 [==============================] - 0s 109us/step - loss: 0.6932 - acc: 0.5010\n",
      "Epoch 69/100\n",
      "2000/2000 [==============================] - 0s 108us/step - loss: 0.6932 - acc: 0.4950\n",
      "Epoch 70/100\n",
      "2000/2000 [==============================] - 0s 104us/step - loss: 0.6932 - acc: 0.4765\n",
      "Epoch 71/100\n",
      "2000/2000 [==============================] - 0s 103us/step - loss: 0.6932 - acc: 0.5000\n",
      "Epoch 72/100\n",
      "2000/2000 [==============================] - 0s 101us/step - loss: 0.6932 - acc: 0.4785\n",
      "Epoch 73/100\n",
      "2000/2000 [==============================] - 0s 106us/step - loss: 0.6932 - acc: 0.4745\n",
      "Epoch 74/100\n",
      "2000/2000 [==============================] - 0s 100us/step - loss: 0.6932 - acc: 0.4870\n",
      "Epoch 75/100\n",
      "2000/2000 [==============================] - 0s 100us/step - loss: 0.6933 - acc: 0.4880\n",
      "Epoch 76/100\n",
      "2000/2000 [==============================] - 0s 103us/step - loss: 0.6932 - acc: 0.4940\n",
      "Epoch 77/100\n",
      "2000/2000 [==============================] - 0s 108us/step - loss: 0.6932 - acc: 0.4875\n",
      "Epoch 78/100\n",
      "2000/2000 [==============================] - 0s 108us/step - loss: 0.6933 - acc: 0.5000\n",
      "Epoch 79/100\n",
      "2000/2000 [==============================] - 0s 103us/step - loss: 0.6932 - acc: 0.4910\n",
      "Epoch 80/100\n",
      "2000/2000 [==============================] - 0s 107us/step - loss: 0.6932 - acc: 0.4885\n",
      "Epoch 81/100\n",
      "2000/2000 [==============================] - 0s 103us/step - loss: 0.6932 - acc: 0.4995\n",
      "Epoch 82/100\n"
     ]
    },
    {
     "name": "stdout",
     "output_type": "stream",
     "text": [
      "2000/2000 [==============================] - 0s 104us/step - loss: 0.6932 - acc: 0.4915\n",
      "Epoch 83/100\n",
      "2000/2000 [==============================] - 0s 105us/step - loss: 0.6932 - acc: 0.4920\n",
      "Epoch 84/100\n",
      "2000/2000 [==============================] - 0s 107us/step - loss: 0.6932 - acc: 0.4980\n",
      "Epoch 85/100\n",
      "2000/2000 [==============================] - 0s 101us/step - loss: 0.6933 - acc: 0.5000\n",
      "Epoch 86/100\n",
      "2000/2000 [==============================] - 0s 101us/step - loss: 0.6932 - acc: 0.4885\n",
      "Epoch 87/100\n",
      "2000/2000 [==============================] - 0s 112us/step - loss: 0.6932 - acc: 0.5000\n",
      "Epoch 88/100\n",
      "2000/2000 [==============================] - 0s 107us/step - loss: 0.6932 - acc: 0.4895\n",
      "Epoch 89/100\n",
      "2000/2000 [==============================] - 0s 112us/step - loss: 0.6932 - acc: 0.4830\n",
      "Epoch 90/100\n",
      "2000/2000 [==============================] - 0s 104us/step - loss: 0.6933 - acc: 0.4895\n",
      "Epoch 91/100\n",
      "2000/2000 [==============================] - 0s 118us/step - loss: 0.6933 - acc: 0.5000\n",
      "Epoch 92/100\n",
      "2000/2000 [==============================] - 0s 114us/step - loss: 0.6932 - acc: 0.4970\n",
      "Epoch 93/100\n",
      "2000/2000 [==============================] - 0s 109us/step - loss: 0.6932 - acc: 0.4875\n",
      "Epoch 94/100\n",
      "2000/2000 [==============================] - 0s 111us/step - loss: 0.6932 - acc: 0.4990\n",
      "Epoch 95/100\n",
      "2000/2000 [==============================] - 0s 112us/step - loss: 0.6932 - acc: 0.5005\n",
      "Epoch 96/100\n",
      "2000/2000 [==============================] - 0s 111us/step - loss: 0.6932 - acc: 0.4885\n",
      "Epoch 97/100\n",
      "2000/2000 [==============================] - 0s 109us/step - loss: 0.6933 - acc: 0.4820\n",
      "Epoch 98/100\n",
      "2000/2000 [==============================] - 0s 107us/step - loss: 0.6932 - acc: 0.5020\n",
      "Epoch 99/100\n",
      "2000/2000 [==============================] - 0s 105us/step - loss: 0.6932 - acc: 0.4830\n",
      "Epoch 100/100\n",
      "2000/2000 [==============================] - 0s 114us/step - loss: 0.6933 - acc: 0.5000\n"
     ]
    },
    {
     "data": {
      "text/plain": [
       "<keras.callbacks.History at 0x11f084a90>"
      ]
     },
     "execution_count": 12,
     "metadata": {},
     "output_type": "execute_result"
    }
   ],
   "source": [
    "model.fit(feat, labels, verbose=1, epochs=100)"
   ]
  },
  {
   "cell_type": "code",
   "execution_count": 13,
   "metadata": {
    "ExecuteTime": {
     "end_time": "2018-05-14T09:53:29.429436Z",
     "start_time": "2018-05-14T09:53:29.425763Z"
    }
   },
   "outputs": [],
   "source": [
    "def get_layer(inp, out, trained_model):\n",
    "    return K.backend.function([trained_model.layers[inp].input], [trained_model.layers[out].output])\n",
    "\n",
    "def tranformations(input_model, data):\n",
    "    activations = []\n",
    "    for i in range(len(input_model.layers)):\n",
    "        out = get_layer(0, i, input_model)\n",
    "        activations.append(out([data]))\n",
    "    return activations"
   ]
  },
  {
   "cell_type": "code",
   "execution_count": 14,
   "metadata": {
    "ExecuteTime": {
     "end_time": "2018-05-14T09:53:32.661332Z",
     "start_time": "2018-05-14T09:53:31.522219Z"
    },
    "scrolled": true
   },
   "outputs": [
    {
     "name": "stdout",
     "output_type": "stream",
     "text": [
      "[array([[0.5228354 , 0.41009325],\n",
      "       [0.590956  , 0.3788987 ],\n",
      "       [0.6232172 , 0.35290197],\n",
      "       ...,\n",
      "       [0.58750594, 0.37298143],\n",
      "       [0.63759136, 0.33979902],\n",
      "       [0.51166445, 0.41823292]], dtype=float32)]\n",
      "20 (2000, 2)\n"
     ]
    }
   ],
   "source": [
    "activations = tranformations(model, feat)\n",
    "#print(activations[1])\n",
    "print(len(activations), activations[0][0].shape)"
   ]
  },
  {
   "cell_type": "code",
   "execution_count": 99,
   "metadata": {
    "ExecuteTime": {
     "end_time": "2018-05-14T10:26:08.667202Z",
     "start_time": "2018-05-14T10:26:08.662489Z"
    }
   },
   "outputs": [],
   "source": [
    "def morphs(activations, labels):\n",
    "    trace_list = []\n",
    "    n_rows = 1 if ((len(activations)) < 10) else (len(activations)//10)\n",
    "    fig = tools.make_subplots(rows=n_rows, cols=(10))\n",
    "    for i in range(1, len(activations)+1):\n",
    "        fig.append_trace(go.Scatter(x=activations[i-1][0][:,0], y = activations[i-1][0][:,1] , mode='markers', marker=dict(color=labels)), -(-i//10), 10 if i%10==0 else i%10)\n",
    "    fig['layout'].update(height=600)\n",
    "    plot(fig)"
   ]
  },
  {
   "cell_type": "code",
   "execution_count": 100,
   "metadata": {
    "ExecuteTime": {
     "end_time": "2018-05-14T10:26:10.750165Z",
     "start_time": "2018-05-14T10:26:10.350193Z"
    }
   },
   "outputs": [
    {
     "name": "stdout",
     "output_type": "stream",
     "text": [
      "This is the format of your plot grid:\n",
      "[ (1,1) x1,y1 ]     [ (1,2) x2,y2 ]     [ (1,3) x3,y3 ]     [ (1,4) x4,y4 ]     [ (1,5) x5,y5 ]     [ (1,6) x6,y6 ]     [ (1,7) x7,y7 ]     [ (1,8) x8,y8 ]     [ (1,9) x9,y9 ]     [ (1,10) x10,y10 ]\n",
      "[ (2,1) x11,y11 ]   [ (2,2) x12,y12 ]   [ (2,3) x13,y13 ]   [ (2,4) x14,y14 ]   [ (2,5) x15,y15 ]   [ (2,6) x16,y16 ]   [ (2,7) x17,y17 ]   [ (2,8) x18,y18 ]   [ (2,9) x19,y19 ]   [ (2,10) x20,y20 ]\n",
      "\n"
     ]
    }
   ],
   "source": [
    "\n",
    "#print(np.argmax(labels, axis=1))\n",
    "morphs(activations, np.argmax(labels, axis=1))"
   ]
  }
 ],
 "metadata": {
  "kernelspec": {
   "display_name": "Python 3",
   "language": "python",
   "name": "python3"
  },
  "language_info": {
   "codemirror_mode": {
    "name": "ipython",
    "version": 3
   },
   "file_extension": ".py",
   "mimetype": "text/x-python",
   "name": "python",
   "nbconvert_exporter": "python",
   "pygments_lexer": "ipython3",
   "version": "3.6.5"
  }
 },
 "nbformat": 4,
 "nbformat_minor": 2
}

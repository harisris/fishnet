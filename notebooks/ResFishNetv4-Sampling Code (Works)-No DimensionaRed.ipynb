{
 "cells": [
  {
   "cell_type": "code",
   "execution_count": 1,
   "metadata": {
    "ExecuteTime": {
     "end_time": "2018-05-31T09:35:01.107445Z",
     "start_time": "2018-05-31T09:35:00.925641Z"
    }
   },
   "outputs": [
    {
     "name": "stderr",
     "output_type": "stream",
     "text": [
      "Using TensorFlow backend.\n"
     ]
    }
   ],
   "source": [
    "import tensorflow as tf\n",
    "import numpy as np\n",
    "from copy import deepcopy\n",
    "import matplotlib.pyplot as plt\n",
    "from IPython import display\n",
    "from keras.utils import to_categorical\n",
    "from sklearn import datasets\n",
    "import sys\n",
    "sys.path.append('../scripts/')\n",
    "from utils import *\n",
    "import plotly.figure_factory as ff\n",
    "import plotly.plotly as py\n",
    "import plotly.graph_objs as go\n",
    "from plotly.offline import download_plotlyjs, init_notebook_mode, plot, iplot\n",
    "from sklearn import datasets\n",
    "from sklearn.utils import resample\n",
    "import numpy as np\n",
    "n_samples = 2000"
   ]
  },
  {
   "cell_type": "code",
   "execution_count": 2,
   "metadata": {},
   "outputs": [],
   "source": [
    "\"\"\" Hyperparameters \"\"\"\n",
    "n_residual_layers = 1\n",
    "n_fisher_layers = 1\n",
    "n_back_residuals = 1\n",
    "\n",
    "np.random.seed(99)\n",
    "\n",
    "\"\"\"\n",
    "Two flavors possible. \n",
    "'previous'  : Sample from previous layer.\n",
    "'different' : Sample from a different layer. If so need to assign which layer to sample from in layer_no.\n",
    "\"\"\"\n",
    "flavor = 'previous'\n",
    "layer_no = 2\n",
    "#Hyperparameter to control the amount of loss. (Roughly kept for Fisher Loss to match the scale of Cross-entropy Loss.)\n",
    "lam = 5000\n",
    "#In case of varying lambda across layers. \n",
    "#lam_array = np.linspace(1/20, 1/8000, num=(n_residual_layers+n_fisher_layers+n_back_residuals)) #Linear decrease#lam_array = [1/20, 1/2000, 1/5000, 1/6000, 1/8000]\n",
    "\n",
    "input_dim = 2\n",
    "output_dim = 2\n",
    "fisher_loss = 0 #Initialise fisher loss to 0. \n",
    "\n",
    "#Lists of layer elements. \n",
    "weights = []\n",
    "biases = []\n",
    "hiddens = []\n",
    "\n",
    "#In case time sampling.\n",
    "time_gradients = False\n",
    "previous_weights = []\n",
    "previous_biases = []\n",
    "\n",
    "#If you want to reduce the dimension of input.\n",
    "reduce_dimension = False\n",
    "n_dim = 2"
   ]
  },
  {
   "cell_type": "code",
   "execution_count": 3,
   "metadata": {
    "ExecuteTime": {
     "end_time": "2018-06-04T11:37:51.613253Z",
     "start_time": "2018-06-04T11:37:51.227180Z"
    },
    "code_folding": [
     55,
     80
    ],
    "scrolled": true
   },
   "outputs": [
    {
     "name": "stdout",
     "output_type": "stream",
     "text": [
      "Residual Layers done 0\n",
      "Fisher Layers done 1\n",
      "Back Residual Layers done 2\n",
      "4\n",
      "Tensor(\"Fisher_Layer/fisher_1:0\", shape=(?, 2), dtype=float32)\n",
      "Loss Graph done 1\n"
     ]
    }
   ],
   "source": [
    "'''Generate graph for Fisher Layer. Non-Fisher Layers are 2x2 flow with residuals from previous layer.'''\n",
    "tf.reset_default_graph()\n",
    "x = tf.placeholder(tf.float32, shape=[None, 2], name='input')\n",
    "y_ = tf.placeholder(tf.float32, shape=[None, 2], name='output')\n",
    "\n",
    "#Manually one layer written for different dimension data set\n",
    "manual = 0\n",
    "if reduce_dimension:\n",
    "    manual = 1\n",
    "    with tf.name_scope('Reduce_Dimension_Layer'):\n",
    "        weights.append(weight_variable([input_dim,n_dim], name='feed_in_weight'))\n",
    "        biases.append(bias_variable([n_dim], name='feed_in_bias'))    \n",
    "        hiddens.append(tf.nn.sigmoid(tf.add(tf.matmul(x,weights[0]), biases[0])))\n",
    "        hiddens[-1] = tf.add(x, hiddens[-1], name='residual_0')\n",
    "        print('Manual single layer done.')\n",
    "        \n",
    "#Residuals before the Fisher Layers\n",
    "if n_residual_layers:\n",
    "    with tf.name_scope('Pre_Residual_Layer'):\n",
    "        for i in range(manual, n_residual_layers+manual):\n",
    "            weights.append(weight_variable([n_dim,n_dim], name='weight_residual_'+str(i)))\n",
    "            biases.append(bias_variable([n_dim], name='bias_residual_'+str(i)))\n",
    "            if (len(hiddens)==0):\n",
    "                hiddens.append(tf.nn.sigmoid(tf.add(tf.matmul(x,weights[-1]), biases[-1])))\n",
    "                #If residuals needed\n",
    "                hiddens[-1] = tf.add(x, hiddens[-1], name='residual_0')\n",
    "            else:\n",
    "                hiddens.append(tf.nn.sigmoid(tf.add(tf.matmul(hiddens[-1],weights[-1]), biases[-1])))\n",
    "                #If residuals needed\n",
    "                hiddens[-1] = tf.add(hiddens[-2], hiddens[-1], name='residual'+str(i))\n",
    "            print('Residual Layers done', i)\n",
    "\n",
    "#Fisher Layers\n",
    "if n_fisher_layers:\n",
    "    F_accum_weights = []\n",
    "    F_accum_biases = []\n",
    "    layer_loss = []\n",
    "    with tf.name_scope('Fisher_Layer'):\n",
    "        for i in range(manual+n_residual_layers, n_fisher_layers+n_residual_layers+manual):\n",
    "            weights.append(weight_variable([n_dim,n_dim], name='fisher_weight_'+str(i)))\n",
    "            biases.append(bias_variable([n_dim], name='fisher_bias_'+str(i)))\n",
    "            \n",
    "            \"\"\"If doing time-wise change in weights, need to create a copy of previous weights\"\"\"\n",
    "            if time_gradients:\n",
    "                previous_weights.append(tf.Variable(tf.zeros_like(weights[0]), trainable=False))\n",
    "                previous_biases.append(tf.Variable(tf.zeros_like(biases[0]), trainable=False))\n",
    "            #No Residuals           \n",
    "            \"\"\"CHANGE IT BACK TO hiddens[-1]\"\"\"\n",
    "            if (len(hiddens) !=0):\n",
    "                hiddens.append(tf.nn.sigmoid(tf.add(tf.matmul(hiddens[-1] ,weights[-1]), biases[-1]), name='fisher_'+str(i))) #For direct\n",
    "                #hiddens[-1] = tf.add(hiddens[-2], hiddens[-1])\n",
    "            elif (len(hiddens) ==0):\n",
    "                hiddens.append(tf.nn.sigmoid(tf.add(tf.matmul(x ,weights[-1]), biases[-1]), name='fisher_'+str(i))) #For direct\n",
    "                #hiddens[-1] = tf.add(x, hiddens[-1])\n",
    "            \n",
    "            #hiddens.append(tf.nn.sigmoid(tf.add(tf.matmul(hiddens[-1],weights[-1]), biases[-1]), name='fisher_'+str(i))) #With dim_reduction   \n",
    "            \n",
    "            #If residuals needed\n",
    "            \"\"\"CHANGE IT BACK TO hiddens[-2]\"\"\"\n",
    "            #hiddens[-1] = tf.add(x, hiddens[-1])\n",
    "            #hiddens[-1] = tf.add(hiddens[-2], hiddens[-1])\n",
    "            print('Fisher Layers done', i)\n",
    "\n",
    "#Final Layers\n",
    "if n_back_residuals:\n",
    "    with tf.name_scope('Post_Residual_Layer'):\n",
    "        for i in range(manual+n_fisher_layers+n_residual_layers, n_fisher_layers+n_residual_layers+n_back_residuals+manual):\n",
    "            weights.append(weight_variable([n_dim,n_dim], name='residual_weight_'+str(i)))\n",
    "            biases.append(bias_variable([n_dim], name='residual_bias_'+str(i)))\n",
    "            #No Residuals\n",
    "            hiddens.append(tf.nn.sigmoid(tf.add(tf.matmul(hiddens[-1],weights[-1]), biases[-1])))\n",
    "            #If residuals needed\n",
    "            hiddens[-1] = tf.add(hiddens[-2], hiddens[-1], name='residual_'+str(i))\n",
    "            print('Back Residual Layers done', i)\n",
    "\n",
    "            \n",
    "weights.append(weight_variable([n_dim,output_dim], name='final_weight'))\n",
    "biases.append(bias_variable([output_dim], name='final_bias'))\n",
    "#No Residuals\n",
    "hiddens.append(tf.nn.sigmoid(tf.add(tf.matmul(hiddens[-1],weights[-1]), biases[-1])))\n",
    "\n",
    "\"\"\"Time flavour net ops for copying current weights to previous weights variable\"\"\"\n",
    "# Ops needed if we are going to try the time flavour of FishNet. \n",
    "if time_gradients:\n",
    "    copy_weights = []\n",
    "    copy_biases = []\n",
    "    for i in range(n_fisher_layers):\n",
    "        copy_weights.append(previous_weights[i].assign(weights[1+n_residual_layers+i]))\n",
    "        copy_biases.append(previous_biases[i].assign(biases[1+n_residual_layers+i])) \n",
    "        print('Copied from', 1+n_residual_layers+i, 'to ', i)\n",
    "\n",
    "        \n",
    "with tf.name_scope('final_output'):\n",
    "    y = hiddens[-1]\n",
    "    #y = tf.add(tf.matmul(hiddens[-1],weights[-1]),biases[-1]) # output layer\n",
    "with tf.name_scope('xtropy_loss'):\n",
    "    cross_entropy_loss = tf.reduce_mean(tf.nn.softmax_cross_entropy_with_logits_v2(labels=y_, logits=y))\n",
    "    tf.summary.scalar(name='xtropy_loss', tensor=cross_entropy_loss)\n",
    "\n",
    "    \n",
    "'''Graph is done. Now create optimiser for FI from Fish Layers'''    \n",
    "    \n",
    "if n_fisher_layers:\n",
    "    #print(hiddens[4])\n",
    "    for i in range(manual+n_residual_layers, n_fisher_layers+n_residual_layers+manual):\n",
    "        with tf.name_scope('layer_fisher'+str(i)):\n",
    "            #Calculate gradients \n",
    "            #Here, sampling is done from outputs of previous layer and weights of next layer. \n",
    "            ######Previous Code#######\n",
    "            #ders_weights = tf.gradients(hiddens[i], weights[i])\n",
    "            #ders_biases = tf.gradients(hiddens[i], biases[i])\n",
    "\n",
    "            #Code for sampling from different layers              \n",
    "            #samples = []\n",
    "            print(len(hiddens))\n",
    "            if flavor == 'previous':\n",
    "                samples = -tf.log(tf.nn.softmax(hiddens[1]))\n",
    "                print(hiddens[i])\n",
    "            elif flavor == 'different':\n",
    "                samples = hiddens[len(hiddens)-1]\n",
    "                print(hiddens[len(hiddens)-1])\n",
    "\n",
    "            #######################################\n",
    "            ders_weights = tf.gradients(tf.convert_to_tensor(samples), weights[i])\n",
    "            ders_biases = tf.gradients(tf.convert_to_tensor(samples), biases[i])\n",
    "\n",
    "            F_accum_weights.append([tf.square(ders_weights)])\n",
    "            F_accum_biases.append([tf.square(ders_biases)])\n",
    "\n",
    "            weight_sqrs = tf.square(weights[i] - weights[i-1])\n",
    "            bias_sqrs = tf.square(biases[i] - biases[i-1])\n",
    "\n",
    "            \"\"\"If doing time-wise change, calculate Fisher of weighs across epochs\"\"\"\n",
    "            #if time_gradients:\n",
    "            #    weight_sqrs = tf.square(weights[i] - previous_weights[i-1-n_residual_layers])\n",
    "            #    print('Subing weights',i,'-',i-1-n_residual_layers)\n",
    "            #    bias_sqrs = tf.square(biases[i] - previous_biases[i-1-n_residual_layers])\n",
    "\n",
    "            weight_leftout = tf.multiply(F_accum_weights[-1], weight_sqrs)\n",
    "            bias_leftout = tf.multiply(F_accum_biases[-1], bias_sqrs)            \n",
    "            \n",
    "            \"\"\"Without the difference between layers\"\"\"\n",
    "            layer_loss.append((lam) * tf.reduce_sum(tf.reduce_sum(F_accum_weights[-1]) + tf.reduce_sum(F_accum_biases[-1]), name='layer_loss_'+str(i)))#tf.multiply(F_accum[i-1],tf.square(var_list[i] - var_list[i-1]))))\n",
    "            \n",
    "            ##### Variable lambda across each layer. Initialise an array with varying lamda ####\n",
    "            #layer_loss.append(lam_array[i-(manual+n_residual_layers)] * tf.reduce_sum(tf.reduce_sum(F_accum_weights[-1]) + tf.reduce_sum(F_accum_biases[-1]), name='layer_loss_'+str(i)))#tf.multiply(F_accum[i-1],tf.square(var_list[i] - var_list[i-1]))))\n",
    "            \"\"\"Actual Fisher Loss\"\"\"\n",
    "            #layer_loss.append((lam) * tf.reduce_sum(weight_leftout + bias_leftout, name='layer_loss_'+str(i)))#tf.multiply(F_accum[i-1],tf.square(var_list[i] - var_list[i-1]))))\n",
    "        print('Loss Graph done', i)\n",
    "\n",
    "    with tf.name_scope('total_fisher_loss'):\n",
    "        fisher_loss += tf.reduce_sum(tf.convert_to_tensor(layer_loss))\n",
    "        tf.summary.scalar(name='fisher_loss', tensor=fisher_loss)\n",
    "        \n",
    "    \"\"\"If we want to have both in a single loss function. Total Loss is sum of crossentropy and each layer Fisher Info\"\"\"\n",
    "    with tf.name_scope('total_loss'):\n",
    "        total_loss = tf.add(fisher_loss, cross_entropy_loss)\n",
    "        tf.summary.scalar(name='total_loss', tensor=total_loss)\n",
    "        \n",
    "    '''Depending on each experiment'''\n",
    "# You can play around here to try a different optimizer for the fisher information or keep it part of total loss. Here optimization only on the Fisher Layers. \n",
    "    train_fisher_step = tf.train.AdamOptimizer(0.01).minimize(fisher_loss, var_list=[weights[manual+n_residual_layers: n_fisher_layers+n_residual_layers+manual], biases[manual+n_residual_layers: n_fisher_layers+n_residual_layers+manual]])\n",
    "#with tf.name_scope('optimization'):\n",
    "\n",
    "train_all_step = tf.train.AdamOptimizer(0.01).minimize(cross_entropy_loss, var_list=[weights, biases])\n",
    "\n",
    "\n",
    "#train all weight except fisher layer weights\n",
    "#train_all_step = tf.train.AdamOptimizer(0.01).minimize(cross_entropy_loss, var_list=[weights[0:manual+n_residual_layers], weights[1+n_fisher_layers+n_residual_layers+manual:], biases[0:manual+n_residual_layers], biases[1+n_fisher_layers+n_residual_layers+manual:]])\n",
    "\n",
    "\n",
    "\n",
    "#train_all_step = tf.train.AdamOptimizer(0.01).minimize(total_loss, var_list=[weights, biases])    \n",
    "    \n",
    "correct_prediction = tf.equal(tf.argmax(y,1), tf.argmax(y_,1))\n",
    "accuracy = tf.reduce_mean(tf.cast(correct_prediction, tf.float32))\n",
    "tf.summary.scalar(name='accuracy', tensor=accuracy)\n",
    "summ_op = tf.summary.merge_all()"
   ]
  },
  {
   "cell_type": "code",
   "execution_count": 4,
   "metadata": {
    "ExecuteTime": {
     "end_time": "2018-05-29T09:31:05.924582Z",
     "start_time": "2018-05-29T09:31:05.921574Z"
    }
   },
   "outputs": [],
   "source": [
    "'''Try different types of data'''\n",
    "\n",
    "#print (hiddens)\n",
    "#print(len(weights[1+n_residual_layers: n_fisher_layers+n_residual_layers+1]), len(biases[1+n_residual_layers: n_fisher_layers+n_residual_layers+1]))\n",
    "#print(len(weights[0:manual+n_residual_layers]), len(weights[1+n_fisher_layers+n_residual_layers+manual:]) , len(biases[0:manual+n_residual_layers]))\n",
    "\n",
    "#Play with different datasets.\n",
    "#feat, labels = datasets.make_classification(n_features=2, n_classes=2, n_redundant=0, n_informative=1, random_state=1, n_clusters_per_class=1, n_samples=n_samples)\n",
    "#feat, labels = datasets.make_circles(n_samples=400, factor=.3, noise=.05)\n",
    "#feat, labels = datasets.make_blobs(n_samples=n_samples, centers=2)\n",
    "\n",
    "\n",
    "feat, labels = datasets.make_moons(n_samples=n_samples, noise=0.05)\n",
    "#feat, labels = datasets.make_blobs(n_samples=n_samples,cluster_std=[1.0, 2.0], centers=[(0,0), (7,0)])\n",
    "\n",
    "#Resample a lot\n",
    "new_feat, new_labels = resample(feat, labels, n_samples=10000, replace=True)\n",
    "new_labels = to_categorical(new_labels, num_classes=2)\n",
    "\n",
    "onefeat = feat[np.where(labels==1)]\n",
    "onelabel = labels[np.where(labels==1)]\n",
    "new_1feat, new_1labels = resample(onefeat, onelabel, n_samples=10000, replace=True)\n",
    "new_1labels = to_categorical(new_1labels, num_classes=2)\n",
    "\n",
    "zerofeat = feat[np.where(labels==0)]\n",
    "zerolabel = labels[np.where(labels==0)]\n",
    "new_0feat, new_0labels = resample(zerofeat, zerolabel, n_samples=10000, replace=True)\n",
    "new_0labels = to_categorical(new_1labels, num_classes=2)"
   ]
  },
  {
   "cell_type": "code",
   "execution_count": 5,
   "metadata": {
    "ExecuteTime": {
     "end_time": "2018-06-04T11:38:08.361200Z",
     "start_time": "2018-06-04T11:37:53.713575Z"
    },
    "scrolled": true
   },
   "outputs": [
    {
     "name": "stdout",
     "output_type": "stream",
     "text": [
      "Step :  0  Accuracy :  0.4988\n",
      "Step :  1000  Accuracy :  0.9836\n",
      "Step :  2000  Accuracy :  0.9883\n",
      "Step :  3000  Accuracy :  0.9883\n",
      "This is the format of your plot grid:\n",
      "[ (1,1) x1,y1 ]     [ (1,2) x2,y2 ]     [ (1,3) x3,y3 ]     [ (1,4) x4,y4 ]     [ (1,5) x5,y5 ]     [ (1,6) x6,y6 ]     [ (1,7) x7,y7 ]     [ (1,8) x8,y8 ]     [ (1,9) x9,y9 ]     [ (1,10) x10,y10 ]\n",
      "\n"
     ]
    }
   ],
   "source": [
    "\"\"\"\"Optimization\"\"\"\n",
    "sess = tf.Session()\n",
    "sess.run(tf.global_variables_initializer())\n",
    "writer = tf.summary.FileWriter('./fishnetlog', sess.graph)\n",
    "for i in range(4000):\n",
    "    if n_fisher_layers:\n",
    "        _, _ , summar, accu = sess.run([train_all_step, train_fisher_step, summ_op, accuracy], feed_dict={x: new_feat, y_: new_labels})\n",
    "        #_, accu = sess.run([train_all_step, accuracy], feed_dict={x: new_feat, y_: new_labels})\n",
    "        #_ = sess.run([train_fisher_step], feed_dict={x: new_0feat, y_: new_0labels})\n",
    "        #_ = sess.run([train_fisher_step], feed_dict={x: new_0feat, y_: new_0labels})\n",
    "    else:\n",
    "        _ , summar, accu = sess.run([train_all_step, summ_op, accuracy], feed_dict={x: new_feat, y_: new_labels})\n",
    "    writer.add_summary(summar, i)\n",
    "    if (i%1000 == 0):\n",
    "        print('Step : ',i,' Accuracy : ',accu)\n",
    "\n",
    "\"\"\"Plotting the Data-Space Tranformation\"\"\"\n",
    "activationsplot = []\n",
    "activationsplot.append(sess.run(x, feed_dict={x:new_feat}))\n",
    "for i in hiddens:\n",
    "    activationsplot.append(sess.run(i, feed_dict={x:new_feat}))\n",
    "morphs(activationsplot, np.argmax(new_labels, axis=1), skip=1, last_layer=True)"
   ]
  },
  {
   "cell_type": "code",
   "execution_count": null,
   "metadata": {},
   "outputs": [],
   "source": [
    "\"\"\"Plotting the Data-Space Tranformation\"\"\"\n",
    "#activationsplot = []\n",
    "#activationsplot.append(sess.run(x, feed_dict={x:new_feat}))\n",
    "#for i in hiddens:\n",
    "#    activationsplot.append(sess.run(i, feed_dict={x:new_feat}))\n",
    "#morphs(activationsplot, np.argmax(new_labels, axis=1), skip=1, last_layer=True)"
   ]
  },
  {
   "cell_type": "code",
   "execution_count": null,
   "metadata": {
    "ExecuteTime": {
     "end_time": "2018-05-30T10:31:41.110016Z",
     "start_time": "2018-05-30T10:31:40.975072Z"
    },
    "scrolled": true
   },
   "outputs": [],
   "source": [
    "\"\"\"Optionally save the model\"\"\"\n",
    "#saver = tf.train.Saver()\n",
    "#saver.save(sess, './model/')"
   ]
  },
  {
   "cell_type": "code",
   "execution_count": 6,
   "metadata": {
    "ExecuteTime": {
     "end_time": "2018-05-30T11:25:16.225848Z",
     "start_time": "2018-05-30T11:25:16.193934Z"
    }
   },
   "outputs": [
    {
     "name": "stdout",
     "output_type": "stream",
     "text": [
      "(1600, 2)\n",
      "This is the format of your plot grid:\n",
      "[ (1,1) x1,y1 ]     [ (1,2) x2,y2 ]     [ (1,3) x3,y3 ]     [ (1,4) x4,y4 ]     [ (1,5) x5,y5 ]     [ (1,6) x6,y6 ]     [ (1,7) x7,y7 ]     [ (1,8) x8,y8 ]     [ (1,9) x9,y9 ]     [ (1,10) x10,y10 ]\n",
      "\n"
     ]
    }
   ],
   "source": [
    "\"\"\"Quiver plots of data space\"\"\"\n",
    "#Generate a small portion of dataset for lesser crowding in quiver plots.\n",
    "plot_feat, plot_labels = resample(feat, labels, n_samples=100, replace=True)\n",
    "mesh = [(a,b) for a in np.arange(-10, 10, 0.5) for b in np.arange(-10, 10, 0.5)]\n",
    "mesh = np.asarray(mesh)\n",
    "print(mesh.shape)\n",
    "def morphs_nolab3(activations2, skip=2, last_layer=False):\n",
    "    #If last dimension is something other than 2, change it. otherwise 0.\n",
    "    trace_list = []\n",
    "    n_rows = 1 if ((len(activations2)) < 10) else -(-len(activations)//10)\n",
    "    fig3 = tools.make_subplots(rows=n_rows, cols=(10))\n",
    "    last_dim = (2 if last_layer==False else 0)\n",
    "    for i in range(1, len(activations2)):\n",
    "        temp_fig = ff.create_quiver(activations2[i][:,0], activations2[i][:,1], activations2[i][:,0]- activations2[i-1][:,0], activations2[i][:,1]-activations2[i-1][:,1],line=dict(width=1.0))\n",
    "        fig3.append_trace(temp_fig['data'][0], -(-i//10), (10 if i%10==0 else i%10))\n",
    "    fig3['layout'].update(height=n_rows*400)\n",
    "    fig3['layout'].update(width=3000)\n",
    "    plot(fig3)\n",
    "\n",
    "meshVelocities = []\n",
    "for i in hiddens:\n",
    "    meshVelocities.append(sess.run(i, feed_dict={x:plot_feat}))\n",
    "morphs_nolab3(meshVelocities, skip=1, last_layer=True)"
   ]
  },
  {
   "cell_type": "code",
   "execution_count": 7,
   "metadata": {},
   "outputs": [
    {
     "name": "stdout",
     "output_type": "stream",
     "text": [
      "This is the format of your plot grid:\n",
      "[ (1,1) x1,y1 ]     [ (1,2) x2,y2 ]     [ (1,3) x3,y3 ]     [ (1,4) x4,y4 ]     [ (1,5) x5,y5 ]     [ (1,6) x6,y6 ]     [ (1,7) x7,y7 ]     [ (1,8) x8,y8 ]     [ (1,9) x9,y9 ]     [ (1,10) x10,y10 ]\n",
      "\n"
     ]
    }
   ],
   "source": [
    "\"\"\"Heat Map of parameter space\"\"\"\n",
    "params = sess.run(tf.trainable_variables())\n",
    "only_weights = []\n",
    "for i in range (0,len(params), 2):\n",
    "    only_weights.append(params[i])\n",
    "def morphs_heat(activations2):\n",
    "    trace_list = []\n",
    "    n_rows = 1 if ((len(activations2)) < 10) else -(-len(activations)//10)\n",
    "    fig3 = tools.make_subplots(rows=n_rows, cols=(10))\n",
    "    #last_dim = (2 if last_layer==False else 0)\n",
    "    for i in range(1, len(activations2)):\n",
    "        temp_fig = go.Heatmap(z=activations2[i])\n",
    "        fig3.append_trace(temp_fig, -(-i//10), (10 if i%10==0 else i%10))\n",
    "    fig3['layout'].update(height=n_rows*400)\n",
    "    fig3['layout'].update(width=3000)\n",
    "    plot(fig3)\n",
    "morphs_heat(only_weights)"
   ]
  },
  {
   "cell_type": "code",
   "execution_count": 34,
   "metadata": {},
   "outputs": [],
   "source": [
    "keras.backend.set_session(sess)"
   ]
  },
  {
   "cell_type": "code",
   "execution_count": 37,
   "metadata": {},
   "outputs": [
    {
     "ename": "TypeError",
     "evalue": "Input tensors to a Model must be Keras tensors. Found: Tensor(\"Tanh:0\", shape=(?, 2), dtype=float32) (missing Keras metadata).",
     "output_type": "error",
     "traceback": [
      "\u001b[0;31m---------------------------------------------------------------------------\u001b[0m",
      "\u001b[0;31mTypeError\u001b[0m                                 Traceback (most recent call last)",
      "\u001b[0;32m<ipython-input-37-088a7b4a74c2>\u001b[0m in \u001b[0;36m<module>\u001b[0;34m()\u001b[0m\n\u001b[0;32m----> 1\u001b[0;31m \u001b[0mkeras\u001b[0m\u001b[0;34m.\u001b[0m\u001b[0mModel\u001b[0m\u001b[0;34m(\u001b[0m\u001b[0minputs\u001b[0m\u001b[0;34m=\u001b[0m\u001b[0my\u001b[0m\u001b[0;34m,\u001b[0m \u001b[0moutputs\u001b[0m\u001b[0;34m=\u001b[0m\u001b[0my_\u001b[0m\u001b[0;34m)\u001b[0m\u001b[0;34m\u001b[0m\u001b[0m\n\u001b[0m",
      "\u001b[0;32m~/.pyenv/versions/3.6.6/lib/python3.6/site-packages/keras/legacy/interfaces.py\u001b[0m in \u001b[0;36mwrapper\u001b[0;34m(*args, **kwargs)\u001b[0m\n\u001b[1;32m     89\u001b[0m                 warnings.warn('Update your `' + object_name +\n\u001b[1;32m     90\u001b[0m                               '` call to the Keras 2 API: ' + signature, stacklevel=2)\n\u001b[0;32m---> 91\u001b[0;31m             \u001b[0;32mreturn\u001b[0m \u001b[0mfunc\u001b[0m\u001b[0;34m(\u001b[0m\u001b[0;34m*\u001b[0m\u001b[0margs\u001b[0m\u001b[0;34m,\u001b[0m \u001b[0;34m**\u001b[0m\u001b[0mkwargs\u001b[0m\u001b[0;34m)\u001b[0m\u001b[0;34m\u001b[0m\u001b[0m\n\u001b[0m\u001b[1;32m     92\u001b[0m         \u001b[0mwrapper\u001b[0m\u001b[0;34m.\u001b[0m\u001b[0m_original_function\u001b[0m \u001b[0;34m=\u001b[0m \u001b[0mfunc\u001b[0m\u001b[0;34m\u001b[0m\u001b[0m\n\u001b[1;32m     93\u001b[0m         \u001b[0;32mreturn\u001b[0m \u001b[0mwrapper\u001b[0m\u001b[0;34m\u001b[0m\u001b[0m\n",
      "\u001b[0;32m~/.pyenv/versions/3.6.6/lib/python3.6/site-packages/keras/engine/topology.py\u001b[0m in \u001b[0;36m__init__\u001b[0;34m(self, inputs, outputs, name)\u001b[0m\n\u001b[1;32m   1573\u001b[0m                 raise TypeError('Input tensors to a ' + cls_name + ' ' +\n\u001b[1;32m   1574\u001b[0m                                 \u001b[0;34m'must be Keras tensors. Found: '\u001b[0m \u001b[0;34m+\u001b[0m \u001b[0mstr\u001b[0m\u001b[0;34m(\u001b[0m\u001b[0mx\u001b[0m\u001b[0;34m)\u001b[0m \u001b[0;34m+\u001b[0m\u001b[0;34m\u001b[0m\u001b[0m\n\u001b[0;32m-> 1575\u001b[0;31m                                 ' (missing Keras metadata).')\n\u001b[0m\u001b[1;32m   1576\u001b[0m             \u001b[0;31m# Check that x is an input tensor.\u001b[0m\u001b[0;34m\u001b[0m\u001b[0;34m\u001b[0m\u001b[0m\n\u001b[1;32m   1577\u001b[0m             \u001b[0mlayer\u001b[0m\u001b[0;34m,\u001b[0m \u001b[0mnode_index\u001b[0m\u001b[0;34m,\u001b[0m \u001b[0mtensor_index\u001b[0m \u001b[0;34m=\u001b[0m \u001b[0mx\u001b[0m\u001b[0;34m.\u001b[0m\u001b[0m_keras_history\u001b[0m\u001b[0;34m\u001b[0m\u001b[0m\n",
      "\u001b[0;31mTypeError\u001b[0m: Input tensors to a Model must be Keras tensors. Found: Tensor(\"Tanh:0\", shape=(?, 2), dtype=float32) (missing Keras metadata)."
     ]
    }
   ],
   "source": []
  },
  {
   "cell_type": "code",
   "execution_count": 86,
   "metadata": {},
   "outputs": [
    {
     "name": "stdout",
     "output_type": "stream",
     "text": [
      "(2000, 2)\n",
      "(1000, 2) (1000,)\n"
     ]
    }
   ],
   "source": [
    "feat2, labels2 = datasets.make_moons(n_samples=n_samples, noise=0.05)\n",
    "#feat, labels = datasets.make_blobs(n_samples=n_samples, centers=2)\n",
    "#new_feat, new_labels = resample(feat, labels, n_samples=10000, replace=True)\n",
    "#onefeat = featsome.where\n",
    "#onelabel = []\n",
    "#for (i,j) in zip(featsome, labelssome):\n",
    "#    if j == 1:\n",
    "#        onefeat\n",
    "\n",
    "onefeat = feat2[np.where(labels2==1)]\n",
    "onelabel = labels2[np.where(labels2==1)]\n",
    "print(feat2.shape)\n",
    "print(onefeat.shape, onelabel.shape)"
   ]
  },
  {
   "cell_type": "code",
   "execution_count": 90,
   "metadata": {},
   "outputs": [
    {
     "data": {
      "text/plain": [
       "array([[0., 1.],\n",
       "       [0., 1.],\n",
       "       [0., 1.],\n",
       "       ...,\n",
       "       [0., 1.],\n",
       "       [0., 1.],\n",
       "       [0., 1.]], dtype=float32)"
      ]
     },
     "execution_count": 90,
     "metadata": {},
     "output_type": "execute_result"
    }
   ],
   "source": [
    "new_onelabelsom = to_categorical(onelabel, num_classes=2)\n",
    "new_onelabelsom"
   ]
  },
  {
   "cell_type": "code",
   "execution_count": 6,
   "metadata": {},
   "outputs": [
    {
     "data": {
      "text/plain": [
       "(2000,)"
      ]
     },
     "execution_count": 6,
     "metadata": {},
     "output_type": "execute_result"
    }
   ],
   "source": [
    "feat_small.shape"
   ]
  }
 ],
 "metadata": {
  "kernelspec": {
   "display_name": "Python 3",
   "language": "python",
   "name": "python3"
  },
  "language_info": {
   "codemirror_mode": {
    "name": "ipython",
    "version": 3
   },
   "file_extension": ".py",
   "mimetype": "text/x-python",
   "name": "python",
   "nbconvert_exporter": "python",
   "pygments_lexer": "ipython3",
   "version": "3.6.6"
  }
 },
 "nbformat": 4,
 "nbformat_minor": 2
}

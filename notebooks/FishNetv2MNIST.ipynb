{
 "cells": [
  {
   "cell_type": "code",
   "execution_count": 3,
   "metadata": {
    "ExecuteTime": {
     "end_time": "2018-05-16T09:05:33.076144Z",
     "start_time": "2018-05-16T09:05:30.394387Z"
    }
   },
   "outputs": [
    {
     "name": "stderr",
     "output_type": "stream",
     "text": [
      "/usr/local/lib/python3.6/site-packages/h5py/__init__.py:36: FutureWarning: Conversion of the second argument of issubdtype from `float` to `np.floating` is deprecated. In future, it will be treated as `np.float64 == np.dtype(float).type`.\n",
      "  from ._conv import register_converters as _register_converters\n"
     ]
    }
   ],
   "source": [
    "import tensorflow as tf\n",
    "import numpy as np\n",
    "from copy import deepcopy\n",
    "import matplotlib.pyplot as plt\n",
    "from IPython import display\n",
    "\n",
    "# variable initialization functions\n",
    "def weight_variable(shape):\n",
    "    initial = tf.truncated_normal(shape, stddev=0.1)\n",
    "    return tf.Variable(initial)\n",
    "\n",
    "def bias_variable(shape):\n",
    "    initial = tf.constant(0.1, shape=shape)\n",
    "    return tf.Variable(initial)"
   ]
  },
  {
   "cell_type": "code",
   "execution_count": 127,
   "metadata": {
    "ExecuteTime": {
     "end_time": "2018-05-16T12:41:01.513833Z",
     "start_time": "2018-05-16T12:41:01.307147Z"
    },
    "scrolled": true
   },
   "outputs": [
    {
     "name": "stdout",
     "output_type": "stream",
     "text": [
      "Layer done 1\n"
     ]
    }
   ],
   "source": [
    "fisher_blocks = True\n",
    "n_layers = 2\n",
    "lam = 1/100\n",
    "input_dim = 784\n",
    "output_dim = 10\n",
    "tf.reset_default_graph()\n",
    "x = tf.placeholder(tf.float32, shape=[None, 784], name='input')\n",
    "y_ = tf.placeholder(tf.float32, shape=[None, 10], name='output')\n",
    "#in_dim = int(x.get_shape()[1]) # 784 for MNIST\n",
    "#out_dim = int(y_.get_shape()[1]) # 10 for MNIST\n",
    "weights = []\n",
    "biases = []\n",
    "hiddens = []\n",
    "F_accum_weights = []\n",
    "F_accum_biases = []\n",
    "\n",
    "weights.append(weight_variable([784,600]))\n",
    "biases.append(bias_variable([600]))    \n",
    "hiddens.append(tf.nn.relu(tf.add(tf.matmul(x,weights[0]), biases[0])))\n",
    "\n",
    "layer_loss = []\n",
    "#layer_param = np.linspace(1,100, n_layers)\n",
    "\n",
    "\n",
    "for i in range(1, n_layers):\n",
    "    weights.append(weight_variable([600,600]))\n",
    "    biases.append(bias_variable([600]))\n",
    "    hiddens.append(tf.nn.relu(tf.add(tf.matmul(hiddens[i-1],weights[i]), biases[i]), name='hidden'+str(i)))\n",
    "    print('Layer done', i)\n",
    "\n",
    "if fisher_blocks:    \n",
    "    for i in range(2, n_layers):\n",
    "        with tf.name_scope('layer_fisher'):\n",
    "            #Get Gradients of outputs wrt. weights of the layer\n",
    "            ders_weights = tf.gradients(-tf.log(hiddens[i]), weights[i])\n",
    "            ders_biases = tf.gradients(-tf.log(hiddens[i]), biases[i])\n",
    "            #Square the gradients\n",
    "            F_accum_weights.append([tf.square(ders_weights)])\n",
    "            F_accum_biases.append([tf.square(ders_biases)])\n",
    "            #Square the difference between next layer weights and the current layer weights.\n",
    "            weight_sqrs = tf.square(weights[i] - weights[i-1])\n",
    "            bias_sqrs = tf.square(biases[i] - biases[i-1])\n",
    "            #Grad * Weight Square difference\n",
    "            weight_leftout = tf.multiply(F_accum_weights[i-2], weight_sqrs)\n",
    "            bias_leftout = tf.multiply(F_accum_biases[i-2], bias_sqrs)\n",
    "            #Convert that to a number\n",
    "            layer_loss.append((lam/2) * tf.reduce_sum(weight_leftout + bias_leftout))#tf.multiply(F_accum[i-1],tf.square(var_list[i] - var_list[i-1]))))\n",
    "        print('Loss Graph done', i)\n",
    "\n",
    "weights.append(weight_variable([600,600]))\n",
    "biases.append(bias_variable([600])) \n",
    "hiddens.append(tf.nn.relu(tf.add(tf.matmul(hiddens[-1],weights[-1]), biases[-1]), name='hidden'+str(i)))\n",
    "weights.append(weight_variable([600,10]))\n",
    "biases.append(bias_variable([10]))\n",
    "#hiddens.append(tf.nn.relu(tf.add(tf.matmul(hiddens[-1],weights[-1]), biases[-1]), name='hidden'+str(i)))\n",
    "\n",
    "\n",
    "\n",
    "\n",
    "fisher_loss = 0\n",
    "if fisher_blocks:\n",
    "    with tf.name_scope('fisher_loss'):\n",
    "        fisher_loss += tf.reduce_mean(tf.convert_to_tensor(layer_loss))\n",
    "        tf.summary.scalar(name='fisher_loss', tensor=fisher_loss)\n",
    "        \n",
    "        \n",
    "with tf.name_scope('final_output'):\n",
    "    y = tf.add(tf.matmul(hiddens[-1],weights[-1]),biases[-1]) # output layer\n",
    "with tf.name_scope('xtropy_loss'):\n",
    "    cross_entropy_loss = tf.reduce_mean(tf.nn.softmax_cross_entropy_with_logits_v2(labels=y_, logits=y))\n",
    "    tf.summary.scalar(name='xtropy_loss', tensor=cross_entropy_loss)\n",
    "with tf.name_scope('total_loss'):\n",
    "    total_loss = fisher_loss + cross_entropy_loss\n",
    "    tf.summary.scalar(name='total_loss', tensor=total_loss)\n",
    "with tf.name_scope('optimization'):\n",
    "    train_step = tf.train.AdamOptimizer(0.1).minimize(total_loss)    \n",
    "    \n",
    "correct_prediction = tf.equal(tf.argmax(y,1), tf.argmax(y_,1))\n",
    "accuracy = tf.reduce_mean(tf.cast(correct_prediction, tf.float32))\n",
    "tf.summary.scalar(name='accuracy', tensor=accuracy)\n",
    "summ_op = tf.summary.merge_all()"
   ]
  },
  {
   "cell_type": "code",
   "execution_count": 100,
   "metadata": {
    "ExecuteTime": {
     "end_time": "2018-05-16T12:06:36.777350Z",
     "start_time": "2018-05-16T12:06:36.771792Z"
    }
   },
   "outputs": [
    {
     "data": {
      "text/plain": [
       "[<tf.Tensor 'Relu:0' shape=(?, 600) dtype=float32>,\n",
       " <tf.Tensor 'hidden1:0' shape=(?, 600) dtype=float32>,\n",
       " <tf.Tensor 'hidden2:0' shape=(?, 600) dtype=float32>,\n",
       " <tf.Tensor 'hidden3:0' shape=(?, 600) dtype=float32>,\n",
       " <tf.Tensor 'hidden4:0' shape=(?, 600) dtype=float32>,\n",
       " <tf.Tensor 'hidden5:0' shape=(?, 600) dtype=float32>,\n",
       " <tf.Tensor 'hidden6:0' shape=(?, 600) dtype=float32>,\n",
       " <tf.Tensor 'hidden7:0' shape=(?, 600) dtype=float32>,\n",
       " <tf.Tensor 'hidden8:0' shape=(?, 600) dtype=float32>,\n",
       " <tf.Tensor 'hidden9:0' shape=(?, 600) dtype=float32>]"
      ]
     },
     "execution_count": 100,
     "metadata": {},
     "output_type": "execute_result"
    }
   ],
   "source": [
    "hiddens"
   ]
  },
  {
   "cell_type": "code",
   "execution_count": null,
   "metadata": {},
   "outputs": [],
   "source": []
  },
  {
   "cell_type": "code",
   "execution_count": 128,
   "metadata": {
    "ExecuteTime": {
     "end_time": "2018-05-16T12:41:24.608120Z",
     "start_time": "2018-05-16T12:41:04.730392Z"
    },
    "scrolled": true
   },
   "outputs": [
    {
     "name": "stdout",
     "output_type": "stream",
     "text": [
      "Extracting ./mnist/train-images-idx3-ubyte.gz\n",
      "Extracting ./mnist/train-labels-idx1-ubyte.gz\n",
      "Extracting ./mnist/t10k-images-idx3-ubyte.gz\n",
      "Extracting ./mnist/t10k-labels-idx1-ubyte.gz\n",
      "0.09\n",
      "0.05\n",
      "0.11\n",
      "0.11\n",
      "0.11\n",
      "0.16\n",
      "0.1\n",
      "0.09\n",
      "0.06\n",
      "0.11\n",
      "0.09\n",
      "0.06\n",
      "0.1\n",
      "0.1\n",
      "0.06\n",
      "0.07\n",
      "0.08\n",
      "0.1\n",
      "0.08\n",
      "0.13\n"
     ]
    }
   ],
   "source": [
    "from sklearn import datasets\n",
    "from keras.utils import to_categorical\n",
    "#n_samples = 2000\n",
    "#feat, labels = datasets.make_classification(n_features=2, n_redundant=0, n_informative=2, random_state=1, n_clusters_per_class=1, n_samples=n_samples)\n",
    "#feat, labels = datasets.make_moons(n_samples=n_samples, noise=0.05)\n",
    "#feat, labels = datasets.make_blobs(n_samples=n_samples)\n",
    "#print(feat.shape, labels.shape)\n",
    "from tensorflow.examples.tutorials.mnist import input_data\n",
    "# Load the MNIST data set\n",
    "mnist_data = input_data.read_data_sets(\"./mnist\", one_hot=True)\n",
    "#labels = to_categorical(labels, num_classes=2)\n",
    "#print(feat.shape, labels.shape)\n",
    "sess = tf.InteractiveSession()\n",
    "sess.run(tf.global_variables_initializer())\n",
    "writer = tf.summary.FileWriter('./fishnetlog', sess.graph)\n",
    "for i in range(2000):\n",
    "    batch_x, batch_y = mnist_data.train.next_batch(100)\n",
    "    _, summar, accu = sess.run([train_step, summ_op, accuracy], feed_dict={x: batch_x, y_: batch_y})\n",
    "    writer.add_summary(summar, i)\n",
    "    if i%100 == 0:\n",
    "        print(accu)\n",
    "temp_batch_x, temp_batch_y = mnist_data.train.next_batch(1000)\n",
    "    #print(accu)\n",
    "    #model.train_step.run(feed_dict={x: feat, y_: labels})\n",
    "    #print(sess.run([accuracy], feed_dict={x: feat, y_: labels}))\n",
    "activations = []\n",
    "for i in hiddens:\n",
    "    activations.append(sess.run(i, feed_dict={x:temp_batch_x}))\n",
    "#morphs(activations, np.argmax(temp_batch_y, axis=1), skip=1, last_layer=True)"
   ]
  },
  {
   "cell_type": "code",
   "execution_count": 125,
   "metadata": {
    "ExecuteTime": {
     "end_time": "2018-05-16T12:39:08.630724Z",
     "start_time": "2018-05-16T12:39:08.625036Z"
    }
   },
   "outputs": [],
   "source": [
    "from plotly import tools\n",
    "import plotly.plotly as py\n",
    "import plotly.graph_objs as go\n",
    "from plotly.offline import download_plotlyjs, init_notebook_mode, plot, iplot\n",
    "import matplotlib.pyplot as plt\n",
    "from sklearn.decomposition import PCA\n",
    "\n",
    "def pca_morphs(activations, labels, skip=2, last_layer=False):\n",
    "    trace_list = []\n",
    "    n_rows = 1 if ((len(activations)) < 10) else -(-len(activations)//10)\n",
    "   \n",
    "    fig = tools.make_subplots(rows=n_rows, cols=(10))\n",
    "    last_dim = (2 if last_layer==False else 0)\n",
    "    for i in range(1, len(activations)-last_dim, skip):\n",
    "        print(i)\n",
    "        pca = PCA(n_components=2)\n",
    "        m = pca.fit_transform(activations[i-1])\n",
    "        print(m.shape)\n",
    "        fig.append_trace(go.Scatter(x=m[:,0], y=m[:,1] , mode='markers', marker=dict(color=labels), text=labels), -(-i//10), (10 if i%10==0 else i%10))\n",
    "    fig['layout'].update(height=n_rows*300)\n",
    "    plot(fig)"
   ]
  },
  {
   "cell_type": "code",
   "execution_count": 129,
   "metadata": {
    "ExecuteTime": {
     "end_time": "2018-05-16T12:41:28.100964Z",
     "start_time": "2018-05-16T12:41:27.833516Z"
    }
   },
   "outputs": [
    {
     "name": "stdout",
     "output_type": "stream",
     "text": [
      "4\n",
      "(1000, 600)\n",
      "This is the format of your plot grid:\n",
      "[ (1,1) x1,y1 ]     [ (1,2) x2,y2 ]     [ (1,3) x3,y3 ]     [ (1,4) x4,y4 ]     [ (1,5) x5,y5 ]     [ (1,6) x6,y6 ]     [ (1,7) x7,y7 ]     [ (1,8) x8,y8 ]     [ (1,9) x9,y9 ]     [ (1,10) x10,y10 ]\n",
      "\n",
      "1\n",
      "(1000, 2)\n",
      "2\n",
      "(1000, 2)\n",
      "3\n",
      "(1000, 2)\n"
     ]
    },
    {
     "name": "stderr",
     "output_type": "stream",
     "text": [
      "/usr/local/lib/python3.6/site-packages/sklearn/decomposition/pca.py:505: RuntimeWarning:\n",
      "\n",
      "invalid value encountered in true_divide\n",
      "\n",
      "/usr/local/lib/python3.6/site-packages/sklearn/decomposition/pca.py:505: RuntimeWarning:\n",
      "\n",
      "divide by zero encountered in true_divide\n",
      "\n"
     ]
    }
   ],
   "source": [
    "activations = []\n",
    "for i in hiddens:\n",
    "    activations.append(sess.run(i, feed_dict={x:temp_batch_x}))\n",
    "activations.append(sess.run(y, feed_dict={x:temp_batch_x}))\n",
    "print(len(activations))\n",
    "print(activations[0].shape)\n",
    "pca_morphs(activations, np.argmax(temp_batch_y, axis=1), skip=1, last_layer=True)"
   ]
  },
  {
   "cell_type": "code",
   "execution_count": 21,
   "metadata": {
    "ExecuteTime": {
     "end_time": "2018-05-16T05:30:29.962440Z",
     "start_time": "2018-05-16T05:30:29.954294Z"
    }
   },
   "outputs": [
    {
     "name": "stdout",
     "output_type": "stream",
     "text": [
      "(2000, 2) (2000,)\n",
      "(2000, 2) (2000, 2)\n"
     ]
    }
   ],
   "source": [
    "from keras.utils import to_categorical\n",
    "from sklearn import datasets\n",
    "n_samples = 2000\n",
    "feat, labels = datasets.make_moons(n_samples=n_samples, noise=0.05)\n",
    "print(feat.shape, labels.shape)\n",
    "labels = to_categorical(labels, num_classes=2)\n",
    "print(feat.shape, labels.shape)"
   ]
  },
  {
   "cell_type": "code",
   "execution_count": 32,
   "metadata": {
    "ExecuteTime": {
     "end_time": "2018-05-16T09:38:47.865501Z",
     "start_time": "2018-05-16T09:38:47.861719Z"
    }
   },
   "outputs": [
    {
     "name": "stdout",
     "output_type": "stream",
     "text": [
      "4\n",
      "(1000, 600)\n",
      "(1000, 600)\n",
      "(1000, 600)\n",
      "(1000, 600)\n"
     ]
    }
   ],
   "source": [
    "print(len(activations))\n",
    "print(activations[0].shape)\n",
    "print(activations[1].shape)\n",
    "print(activations[2].shape)\n",
    "print(activations[3].shape)"
   ]
  },
  {
   "cell_type": "code",
   "execution_count": 43,
   "metadata": {
    "ExecuteTime": {
     "end_time": "2018-05-16T11:36:42.507014Z",
     "start_time": "2018-05-16T11:36:42.501030Z"
    }
   },
   "outputs": [],
   "source": [
    "\n",
    "    \n"
   ]
  },
  {
   "cell_type": "code",
   "execution_count": 40,
   "metadata": {
    "ExecuteTime": {
     "end_time": "2018-05-16T11:35:15.618075Z",
     "start_time": "2018-05-16T11:35:15.614288Z"
    },
    "scrolled": true
   },
   "outputs": [
    {
     "name": "stdout",
     "output_type": "stream",
     "text": [
      "(1000, 600)\n"
     ]
    }
   ],
   "source": [
    "len(activations)\n",
    "print(activations[0].shape)\n",
    "#morphs(activations, np.argmax(labels, axis=1), skip=1, last_layer=True)"
   ]
  },
  {
   "cell_type": "code",
   "execution_count": 141,
   "metadata": {
    "ExecuteTime": {
     "end_time": "2018-05-16T07:13:48.428713Z",
     "start_time": "2018-05-16T07:13:48.422440Z"
    }
   },
   "outputs": [
    {
     "data": {
      "text/plain": [
       "array([  1.  ,  25.75,  50.5 ,  75.25, 100.  ])"
      ]
     },
     "execution_count": 141,
     "metadata": {},
     "output_type": "execute_result"
    }
   ],
   "source": [
    "np.linspace(1,100, n_layers)"
   ]
  }
 ],
 "metadata": {
  "kernelspec": {
   "display_name": "Python 3",
   "language": "python",
   "name": "python3"
  },
  "language_info": {
   "codemirror_mode": {
    "name": "ipython",
    "version": 3
   },
   "file_extension": ".py",
   "mimetype": "text/x-python",
   "name": "python",
   "nbconvert_exporter": "python",
   "pygments_lexer": "ipython3",
   "version": "3.6.6"
  }
 },
 "nbformat": 4,
 "nbformat_minor": 2
}

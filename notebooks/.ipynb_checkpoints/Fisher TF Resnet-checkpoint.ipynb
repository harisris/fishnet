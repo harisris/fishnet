{
 "cells": [
  {
   "cell_type": "code",
   "execution_count": 1,
   "metadata": {
    "ExecuteTime": {
     "end_time": "2018-05-15T09:21:39.894326Z",
     "start_time": "2018-05-15T09:21:37.577578Z"
    }
   },
   "outputs": [
    {
     "name": "stderr",
     "output_type": "stream",
     "text": [
      "/usr/local/lib/python3.6/site-packages/h5py/__init__.py:36: FutureWarning: Conversion of the second argument of issubdtype from `float` to `np.floating` is deprecated. In future, it will be treated as `np.float64 == np.dtype(float).type`.\n",
      "  from ._conv import register_converters as _register_converters\n"
     ]
    }
   ],
   "source": [
    "# automatically reload edited modules\n",
    "%load_ext autoreload\n",
    "%autoreload 2\n",
    "import tensorflow as tf\n",
    "import numpy as np\n",
    "from copy import deepcopy"
   ]
  },
  {
   "cell_type": "code",
   "execution_count": 2,
   "metadata": {
    "ExecuteTime": {
     "end_time": "2018-05-15T09:21:42.457492Z",
     "start_time": "2018-05-15T09:21:42.255880Z"
    }
   },
   "outputs": [],
   "source": [
    "import matplotlib.pyplot as plt\n",
    "import matplotlib.image as mpimg\n",
    "from IPython import display"
   ]
  },
  {
   "cell_type": "code",
   "execution_count": 3,
   "metadata": {
    "ExecuteTime": {
     "end_time": "2018-05-15T09:21:44.045357Z",
     "start_time": "2018-05-15T09:21:43.713354Z"
    }
   },
   "outputs": [
    {
     "name": "stderr",
     "output_type": "stream",
     "text": [
      "Using TensorFlow backend.\n"
     ]
    },
    {
     "name": "stdout",
     "output_type": "stream",
     "text": [
      "(2000, 2) (2000,)\n",
      "(2000, 2) (2000, 2)\n"
     ]
    }
   ],
   "source": [
    "from keras.utils import to_categorical\n",
    "from sklearn import datasets\n",
    "n_samples = 2000\n",
    "feat, labels = datasets.make_moons(n_samples=n_samples, noise=0.05)\n",
    "print(feat.shape, labels.shape)\n",
    "labels = to_categorical(labels, num_classes=2)\n",
    "print(feat.shape, labels.shape)"
   ]
  },
  {
   "cell_type": "code",
   "execution_count": 4,
   "metadata": {
    "ExecuteTime": {
     "end_time": "2018-05-15T09:21:45.602676Z",
     "start_time": "2018-05-15T09:21:45.569459Z"
    }
   },
   "outputs": [],
   "source": [
    "# classification accuracy plotting\n",
    "def plot_test_acc(plot_handles):\n",
    "    plt.legend(handles=plot_handles, loc=\"center right\")\n",
    "    plt.xlabel(\"Iterations\")\n",
    "    plt.ylabel(\"Test Accuracy\")\n",
    "    plt.ylim(0,1)\n",
    "    display.display(plt.gcf())\n",
    "    display.clear_output(wait=True)\n",
    "    \n",
    "# train/compare vanilla sgd and ewc\n",
    "def train_task(model, num_iter, disp_freq, trainset, testsets, x, y_, lams=[0]):\n",
    "    for l in range(len(lams)):\n",
    "        # lams[l] sets weight on old task(s)\n",
    "        model.restore(sess) # reassign optimal weights from previous training session\n",
    "        if(lams[l] == 0):\n",
    "            model.set_vanilla_loss()\n",
    "        else:\n",
    "            model.update_ewc_loss(lams[l])\n",
    "        # initialize test accuracy array for each task \n",
    "        test_accs = []\n",
    "        for task in range(len(testsets)):\n",
    "            test_accs.append(np.zeros(num_iter//disp_freq))\n",
    "        # train on current task\n",
    "        for iter in range(num_iter):\n",
    "            #batch = trainset.train.next_batch(100)\n",
    "            model.train_step.run(feed_dict={x: feat, y_: labels})\n",
    "            if iter % disp_freq == 0:\n",
    "                plt.subplot(1, len(lams), l+1)\n",
    "                plots = []\n",
    "                colors = ['r', 'b', 'g']\n",
    "                for task in range(len(testsets)):\n",
    "                    feed_dict={x: feat, y_: labels}\n",
    "                    test_accs[task][iter//disp_freq] = model.accuracy.eval(feed_dict=feed_dict)\n",
    "                    c = chr(ord('A') + task)\n",
    "                    plot_h, = plt.plot(range(1,iter+2,disp_freq), test_accs[task][:iter//disp_freq+1], colors[task], label=\"task \" + c)\n",
    "                    plots.append(plot_h)\n",
    "                plot_test_acc(plots)\n",
    "                if l == 0: \n",
    "                    plt.title(\"vanilla sgd\")\n",
    "                else:\n",
    "                    plt.title(\"ewc\")\n",
    "                plt.gcf().set_size_inches(len(lams)*5, 3.5)"
   ]
  },
  {
   "cell_type": "code",
   "execution_count": 27,
   "metadata": {
    "ExecuteTime": {
     "end_time": "2018-05-15T09:32:46.653179Z",
     "start_time": "2018-05-15T09:32:46.620114Z"
    }
   },
   "outputs": [],
   "source": [
    "from model import Model\n",
    "# define input and target placeholders\n",
    "tf.reset_default_graph()\n",
    "x = tf.placeholder(tf.float32, shape=[None, 2])\n",
    "y_ = tf.placeholder(tf.float32, shape=[None, 2])"
   ]
  },
  {
   "cell_type": "code",
   "execution_count": 28,
   "metadata": {
    "ExecuteTime": {
     "end_time": "2018-05-15T09:32:48.152885Z",
     "start_time": "2018-05-15T09:32:48.011927Z"
    }
   },
   "outputs": [],
   "source": [
    "sess = tf.InteractiveSession()\n",
    "model = Model(x, y_, 5) # simple 2-layer network"
   ]
  },
  {
   "cell_type": "code",
   "execution_count": 29,
   "metadata": {
    "ExecuteTime": {
     "end_time": "2018-05-15T09:32:50.828534Z",
     "start_time": "2018-05-15T09:32:50.788035Z"
    }
   },
   "outputs": [],
   "source": [
    "sess.run(tf.global_variables_initializer())"
   ]
  },
  {
   "cell_type": "code",
   "execution_count": 31,
   "metadata": {
    "ExecuteTime": {
     "end_time": "2018-05-15T09:33:43.085754Z",
     "start_time": "2018-05-15T09:32:58.433782Z"
    }
   },
   "outputs": [
    {
     "data": {
      "image/png": "[encoded data removed]",
      "text/plain": [
       "<matplotlib.figure.Figure at 0x1164b53c8>"
      ]
     },
     "metadata": {},
     "output_type": "display_data"
    }
   ],
   "source": [
    "model.var_list\n",
    "model.compute_fisher(feat, sess, num_samples=200, plot_diffs=True)\n",
    "#train_task(model, 800, 20, feat, [feat], x, y_, lams=[0, 15])"
   ]
  },
  {
   "cell_type": "code",
   "execution_count": 58,
   "metadata": {
    "ExecuteTime": {
     "end_time": "2018-05-15T08:38:52.695984Z",
     "start_time": "2018-05-15T08:38:52.691342Z"
    }
   },
   "outputs": [],
   "source": [
    "activation_ops = []\n",
    "activation_ops.append(sess.graph.get_operation_by_name('h1').outputs[0])\n",
    "activation_ops.append(sess.graph.get_operation_by_name('a1').outputs[0])\n",
    "activation_ops.append(sess.graph.get_operation_by_name('h2').outputs[0])\n",
    "activation_ops.append(sess.graph.get_operation_by_name('a2').outputs[0])\n",
    "activation_ops.append(sess.graph.get_operation_by_name('h3').outputs[0])\n",
    "activation_ops.append(sess.graph.get_operation_by_name('a3').outputs[0])"
   ]
  },
  {
   "cell_type": "code",
   "execution_count": 59,
   "metadata": {
    "ExecuteTime": {
     "end_time": "2018-05-15T08:38:54.382516Z",
     "start_time": "2018-05-15T08:38:54.361631Z"
    }
   },
   "outputs": [],
   "source": [
    "#val_1 = sess.run([a2], feed_dict={x : feat})\n",
    "activations = []\n",
    "for i in activation_ops:\n",
    "    activations.append(sess.run(i, feed_dict={x:feat}))"
   ]
  },
  {
   "cell_type": "code",
   "execution_count": 62,
   "metadata": {
    "ExecuteTime": {
     "end_time": "2018-05-15T08:39:20.399854Z",
     "start_time": "2018-05-15T08:39:20.394359Z"
    }
   },
   "outputs": [],
   "source": [
    "from plotly import tools\n",
    "import plotly.plotly as py\n",
    "import plotly.graph_objs as go\n",
    "from plotly.offline import download_plotlyjs, init_notebook_mode, plot, iplot\n",
    "import matplotlib.pyplot as plt\n",
    "\n",
    "def morphs(activations, labels, skip=2, last_layer=False):\n",
    "    #If last dimension is something other than 2, change it. otherwise 0.\n",
    "    trace_list = []\n",
    "    n_rows = 1 if ((len(activations)) < 10) else -(-len(activations)//10)\n",
    "    print(n_rows)\n",
    "    fig = tools.make_subplots(rows=n_rows, cols=(10))\n",
    "    last_dim = (2 if last_layer==False else 0)\n",
    "    for i in range(1, len(activations)-last_dim, skip):\n",
    "        print((-(-i//10)), i%10, i-1, (i//2)+1)\n",
    "        fig.append_trace(go.Scatter(x=activations[i-1][:,0], y = activations[i-1][:,1] , mode='markers', marker=dict(color=labels)), -(-i//10), (10 if i%10==0 else i%10))\n",
    "    fig['layout'].update(height=n_rows*300)\n",
    "    plot(fig)"
   ]
  },
  {
   "cell_type": "code",
   "execution_count": 64,
   "metadata": {
    "ExecuteTime": {
     "end_time": "2018-05-15T08:40:29.717649Z",
     "start_time": "2018-05-15T08:40:29.520416Z"
    }
   },
   "outputs": [
    {
     "name": "stdout",
     "output_type": "stream",
     "text": [
      "(2000, 2)\n",
      "1\n",
      "This is the format of your plot grid:\n",
      "[ (1,1) x1,y1 ]     [ (1,2) x2,y2 ]     [ (1,3) x3,y3 ]     [ (1,4) x4,y4 ]     [ (1,5) x5,y5 ]     [ (1,6) x6,y6 ]     [ (1,7) x7,y7 ]     [ (1,8) x8,y8 ]     [ (1,9) x9,y9 ]     [ (1,10) x10,y10 ]\n",
      "\n",
      "1 1 0 1\n",
      "1 2 1 2\n",
      "1 3 2 2\n",
      "1 4 3 3\n",
      "1 5 4 3\n"
     ]
    }
   ],
   "source": [
    "len(activations)\n",
    "print(activations[0].shape)\n",
    "morphs(activations, np.argmax(labels, axis=1), skip=1, last_layer=True)"
   ]
  },
  {
   "cell_type": "code",
   "execution_count": 65,
   "metadata": {
    "ExecuteTime": {
     "end_time": "2018-05-15T08:42:07.351117Z",
     "start_time": "2018-05-15T08:41:22.204704Z"
    }
   },
   "outputs": [
    {
     "data": {
      "image/png": "[encoded data removed]",
      "text/plain": [
       "<matplotlib.figure.Figure at 0x119ff44a8>"
      ]
     },
     "metadata": {},
     "output_type": "display_data"
    }
   ],
   "source": [
    "model.compute_fisher(feat, sess, num_samples=200, plot_diffs=True)"
   ]
  },
  {
   "cell_type": "code",
   "execution_count": 66,
   "metadata": {
    "ExecuteTime": {
     "end_time": "2018-05-15T08:42:32.053291Z",
     "start_time": "2018-05-15T08:42:09.858792Z"
    }
   },
   "outputs": [
    {
     "data": {
      "image/png": "[encoded data removed]",
      "text/plain": [
       "<matplotlib.figure.Figure at 0x11f566e80>"
      ]
     },
     "metadata": {},
     "output_type": "display_data"
    }
   ],
   "source": [
    "model.star()\n",
    "train_task(model, 800, 20, feat, [feat], x, y_, lams=[0,15])"
   ]
  },
  {
   "cell_type": "code",
   "execution_count": 67,
   "metadata": {
    "ExecuteTime": {
     "end_time": "2018-05-15T08:42:47.568123Z",
     "start_time": "2018-05-15T08:42:47.562599Z"
    }
   },
   "outputs": [],
   "source": [
    "activations = []\n",
    "for i in activation_ops:\n",
    "    activations.append(sess.run(i, feed_dict={x:feat}))"
   ]
  },
  {
   "cell_type": "code",
   "execution_count": 68,
   "metadata": {
    "ExecuteTime": {
     "end_time": "2018-05-15T08:43:03.137608Z",
     "start_time": "2018-05-15T08:43:02.945661Z"
    }
   },
   "outputs": [
    {
     "name": "stdout",
     "output_type": "stream",
     "text": [
      "1\n",
      "This is the format of your plot grid:\n",
      "[ (1,1) x1,y1 ]     [ (1,2) x2,y2 ]     [ (1,3) x3,y3 ]     [ (1,4) x4,y4 ]     [ (1,5) x5,y5 ]     [ (1,6) x6,y6 ]     [ (1,7) x7,y7 ]     [ (1,8) x8,y8 ]     [ (1,9) x9,y9 ]     [ (1,10) x10,y10 ]\n",
      "\n",
      "1 1 0 1\n",
      "1 2 1 2\n",
      "1 3 2 2\n",
      "1 4 3 3\n",
      "1 5 4 3\n"
     ]
    }
   ],
   "source": [
    "morphs(activations, np.argmax(labels, axis=1), skip=1, last_layer=True)"
   ]
  },
  {
   "cell_type": "code",
   "execution_count": null,
   "metadata": {},
   "outputs": [],
   "source": []
  }
 ],
 "metadata": {
  "kernelspec": {
   "display_name": "Python 3",
   "language": "python",
   "name": "python3"
  },
  "language_info": {
   "codemirror_mode": {
    "name": "ipython",
    "version": 3
   },
   "file_extension": ".py",
   "mimetype": "text/x-python",
   "name": "python",
   "nbconvert_exporter": "python",
   "pygments_lexer": "ipython3",
   "version": "3.6.6"
  }
 },
 "nbformat": 4,
 "nbformat_minor": 2
}

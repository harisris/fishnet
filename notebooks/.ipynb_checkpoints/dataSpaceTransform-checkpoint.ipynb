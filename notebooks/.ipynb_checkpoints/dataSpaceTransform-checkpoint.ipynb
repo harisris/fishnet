{
 "cells": [
  {
   "cell_type": "code",
   "execution_count": 1,
   "metadata": {
    "ExecuteTime": {
     "end_time": "2018-05-15T06:44:01.636826Z",
     "start_time": "2018-05-15T06:44:01.628101Z"
    }
   },
   "outputs": [
    {
     "name": "stderr",
     "output_type": "stream",
     "text": [
      "Using TensorFlow backend.\n",
      "/Users/user/.pyenv/versions/3.6.6/lib/python3.6/importlib/_bootstrap.py:219: RuntimeWarning: numpy.dtype size changed, may indicate binary incompatibility. Expected 96, got 88\n",
      "  return f(*args, **kwds)\n",
      "/Users/user/.pyenv/versions/3.6.6/lib/python3.6/importlib/_bootstrap.py:219: RuntimeWarning: numpy.dtype size changed, may indicate binary incompatibility. Expected 96, got 88\n",
      "  return f(*args, **kwds)\n"
     ]
    }
   ],
   "source": [
    "#Plotting data space transformation for Relu Network (C1)and Feedforward (C0) \n",
    "\n",
    "from sklearn import datasets\n",
    "import keras as K\n",
    "from keras import models\n",
    "from keras.layers import Dense, Activation, Input\n",
    "from keras.utils import to_categorical\n",
    "import numpy as np\n",
    "from plotly import tools\n",
    "import plotly.plotly as py\n",
    "import plotly.graph_objs as go\n",
    "from plotly.offline import download_plotlyjs, init_notebook_mode, plot, iplot\n",
    "import matplotlib.pyplot as plt\n",
    "import keras\n",
    "from keras.models import Model"
   ]
  },
  {
   "cell_type": "code",
   "execution_count": 2,
   "metadata": {
    "ExecuteTime": {
     "end_time": "2018-05-15T06:55:38.070883Z",
     "start_time": "2018-05-15T06:55:38.065635Z"
    }
   },
   "outputs": [
    {
     "name": "stdout",
     "output_type": "stream",
     "text": [
      "(2000, 2) (2000,) (2000, 2)\n"
     ]
    },
    {
     "data": {
      "text/plain": [
       "<matplotlib.collections.PathCollection at 0x1276f90b8>"
      ]
     },
     "execution_count": 2,
     "metadata": {},
     "output_type": "execute_result"
    },
    {
     "data": {
      "image/png": "[encoded data removed]",
      "text/plain": [
       "<Figure size 432x288 with 1 Axes>"
      ]
     },
     "metadata": {},
     "output_type": "display_data"
    }
   ],
   "source": [
    "n_samples = 2000\n",
    "feat, labels = datasets.make_moons(n_samples=n_samples, noise=0.05)\n",
    "one_hot_labels = to_categorical(labels, num_classes=2)\n",
    "print(feat.shape, labels.shape, one_hot_labels.shape)\n",
    "plt.scatter(feat[:,0], feat[:,1], c=np.argmax(one_hot_labels, axis=1))"
   ]
  },
  {
   "cell_type": "code",
   "execution_count": 3,
   "metadata": {
    "ExecuteTime": {
     "end_time": "2018-05-15T07:33:41.336037Z",
     "start_time": "2018-05-15T07:33:41.332048Z"
    },
    "code_folding": []
   },
   "outputs": [],
   "source": [
    "def make_stack(n_layers=5, out_shape=2):\n",
    "    model = models.Sequential()   \n",
    "    for i in range(n_layers-1):\n",
    "        model.add(Dense(2, input_shape=(2,)))\n",
    "        model.add(Activation('relu')) \n",
    "    model.add(Dense(out_shape, input_shape=(2,)))\n",
    "    model.add(Activation('softmax'))\n",
    "    model.compile('adam', 'categorical_crossentropy', metrics=['accuracy'])\n",
    "    return model"
   ]
  },
  {
   "cell_type": "code",
   "execution_count": 4,
   "metadata": {
    "ExecuteTime": {
     "end_time": "2018-05-15T07:36:06.732359Z",
     "start_time": "2018-05-15T07:36:06.727938Z"
    }
   },
   "outputs": [],
   "source": [
    "def make_residual_stack(n_layers=5, out_shape=2):\n",
    "    inp = Input([2])\n",
    "    mod = Dense(2, input_shape=(2,), activation='relu')(inp)\n",
    "    mod = keras.layers.add([mod, inp])\n",
    "    for i in range(n_layers-1):\n",
    "        mod2 = Dense(2, input_shape=(2,), activation='relu')(mod)\n",
    "        mod = keras.layers.add([mod, mod2])\n",
    "    mod = Dense(out_shape, input_shape=(2,))(mod)\n",
    "    out = Activation('softmax')(mod)\n",
    "    model = Model(inp, out)\n",
    "    model.compile('adam', 'categorical_crossentropy', metrics=['accuracy'])\n",
    "    return model"
   ]
  },
  {
   "cell_type": "code",
   "execution_count": 5,
   "metadata": {
    "ExecuteTime": {
     "end_time": "2018-05-15T07:20:43.272634Z",
     "start_time": "2018-05-15T07:20:43.115324Z"
    },
    "scrolled": false
   },
   "outputs": [],
   "source": [
    "K.backend.clear_session()\n",
    "# Make model\n",
    "model = make_residual_stack(10, out_shape=2)\n",
    "#model.summary()"
   ]
  },
  {
   "cell_type": "code",
   "execution_count": 6,
   "metadata": {
    "ExecuteTime": {
     "end_time": "2018-05-15T07:21:08.876883Z",
     "start_time": "2018-05-15T07:20:54.515064Z"
    }
   },
   "outputs": [
    {
     "name": "stdout",
     "output_type": "stream",
     "text": [
      "Epoch 1/100\n",
      "2000/2000 [==============================] - 1s 432us/step - loss: 5.8643 - acc: 0.5000\n",
      "Epoch 2/100\n",
      "2000/2000 [==============================] - 0s 69us/step - loss: 3.3260 - acc: 0.5115\n",
      "Epoch 3/100\n",
      "2000/2000 [==============================] - 0s 128us/step - loss: 0.9370 - acc: 0.4680\n",
      "Epoch 4/100\n",
      "2000/2000 [==============================] - 0s 90us/step - loss: 0.5645 - acc: 0.6730\n",
      "Epoch 5/100\n",
      "2000/2000 [==============================] - 0s 65us/step - loss: 0.2843 - acc: 0.8945\n",
      "Epoch 6/100\n",
      "2000/2000 [==============================] - 0s 67us/step - loss: 0.2165 - acc: 0.9150\n",
      "Epoch 7/100\n",
      "2000/2000 [==============================] - 0s 65us/step - loss: 0.1983 - acc: 0.9120\n",
      "Epoch 8/100\n",
      "2000/2000 [==============================] - 0s 80us/step - loss: 0.1871 - acc: 0.9145\n",
      "Epoch 9/100\n",
      "2000/2000 [==============================] - 0s 87us/step - loss: 0.1771 - acc: 0.9180\n",
      "Epoch 10/100\n",
      "2000/2000 [==============================] - 0s 67us/step - loss: 0.1701 - acc: 0.9195\n",
      "Epoch 11/100\n",
      "2000/2000 [==============================] - 0s 61us/step - loss: 0.1653 - acc: 0.9215\n",
      "Epoch 12/100\n",
      "2000/2000 [==============================] - 0s 71us/step - loss: 0.1641 - acc: 0.9220\n",
      "Epoch 13/100\n",
      "2000/2000 [==============================] - 0s 67us/step - loss: 0.1523 - acc: 0.9255\n",
      "Epoch 14/100\n",
      "2000/2000 [==============================] - 0s 70us/step - loss: 0.1466 - acc: 0.9260\n",
      "Epoch 15/100\n",
      "2000/2000 [==============================] - 0s 69us/step - loss: 0.1408 - acc: 0.9350\n",
      "Epoch 16/100\n",
      "2000/2000 [==============================] - 0s 84us/step - loss: 0.1319 - acc: 0.9405\n",
      "Epoch 17/100\n",
      "2000/2000 [==============================] - 0s 68us/step - loss: 0.1254 - acc: 0.9400\n",
      "Epoch 18/100\n",
      "2000/2000 [==============================] - 0s 66us/step - loss: 0.1173 - acc: 0.9465\n",
      "Epoch 19/100\n",
      "2000/2000 [==============================] - 0s 68us/step - loss: 0.1100 - acc: 0.9495\n",
      "Epoch 20/100\n",
      "2000/2000 [==============================] - 0s 65us/step - loss: 0.1053 - acc: 0.9515\n",
      "Epoch 21/100\n",
      "2000/2000 [==============================] - 0s 69us/step - loss: 0.0943 - acc: 0.9590\n",
      "Epoch 22/100\n",
      "2000/2000 [==============================] - 0s 69us/step - loss: 0.0703 - acc: 0.9745\n",
      "Epoch 23/100\n",
      "2000/2000 [==============================] - 0s 100us/step - loss: 0.0567 - acc: 0.9830\n",
      "Epoch 24/100\n",
      "2000/2000 [==============================] - 0s 76us/step - loss: 0.0455 - acc: 0.9910\n",
      "Epoch 25/100\n",
      "2000/2000 [==============================] - 0s 87us/step - loss: 0.0386 - acc: 0.9950\n",
      "Epoch 26/100\n",
      "2000/2000 [==============================] - 0s 71us/step - loss: 0.0340 - acc: 0.9960\n",
      "Epoch 27/100\n",
      "2000/2000 [==============================] - 0s 61us/step - loss: 0.0298 - acc: 0.9970\n",
      "Epoch 28/100\n",
      "2000/2000 [==============================] - 0s 60us/step - loss: 0.0269 - acc: 0.9975\n",
      "Epoch 29/100\n",
      "2000/2000 [==============================] - 0s 61us/step - loss: 0.0236 - acc: 0.9985\n",
      "Epoch 30/100\n",
      "2000/2000 [==============================] - 0s 65us/step - loss: 0.0203 - acc: 0.9995\n",
      "Epoch 31/100\n",
      "2000/2000 [==============================] - 0s 71us/step - loss: 0.0182 - acc: 0.9995\n",
      "Epoch 32/100\n",
      "2000/2000 [==============================] - 0s 61us/step - loss: 0.0164 - acc: 0.9995\n",
      "Epoch 33/100\n",
      "2000/2000 [==============================] - 0s 61us/step - loss: 0.0150 - acc: 1.0000\n",
      "Epoch 34/100\n",
      "2000/2000 [==============================] - 0s 62us/step - loss: 0.0142 - acc: 1.0000\n",
      "Epoch 35/100\n",
      "2000/2000 [==============================] - 0s 61us/step - loss: 0.0126 - acc: 1.0000\n",
      "Epoch 36/100\n",
      "2000/2000 [==============================] - 0s 60us/step - loss: 0.0116 - acc: 0.9995\n",
      "Epoch 37/100\n",
      "2000/2000 [==============================] - 0s 61us/step - loss: 0.0106 - acc: 1.0000\n",
      "Epoch 38/100\n",
      "2000/2000 [==============================] - 0s 60us/step - loss: 0.0106 - acc: 1.0000\n",
      "Epoch 39/100\n",
      "2000/2000 [==============================] - 0s 60us/step - loss: 0.0092 - acc: 1.0000\n",
      "Epoch 40/100\n",
      "2000/2000 [==============================] - 0s 60us/step - loss: 0.0084 - acc: 1.0000\n",
      "Epoch 41/100\n",
      "2000/2000 [==============================] - 0s 62us/step - loss: 0.0080 - acc: 0.9995\n",
      "Epoch 42/100\n",
      "2000/2000 [==============================] - 0s 92us/step - loss: 0.0071 - acc: 1.0000\n",
      "Epoch 43/100\n",
      "2000/2000 [==============================] - 0s 114us/step - loss: 0.0068 - acc: 1.0000\n",
      "Epoch 44/100\n",
      "2000/2000 [==============================] - 0s 68us/step - loss: 0.0062 - acc: 1.0000\n",
      "Epoch 45/100\n",
      "2000/2000 [==============================] - 0s 63us/step - loss: 0.0062 - acc: 1.0000\n",
      "Epoch 46/100\n",
      "2000/2000 [==============================] - 0s 63us/step - loss: 0.0057 - acc: 0.9995\n",
      "Epoch 47/100\n",
      "2000/2000 [==============================] - 0s 60us/step - loss: 0.0053 - acc: 1.0000\n",
      "Epoch 48/100\n",
      "2000/2000 [==============================] - 0s 71us/step - loss: 0.0049 - acc: 1.0000\n",
      "Epoch 49/100\n",
      "2000/2000 [==============================] - 0s 72us/step - loss: 0.0043 - acc: 1.0000\n",
      "Epoch 50/100\n",
      "2000/2000 [==============================] - 0s 68us/step - loss: 0.0056 - acc: 1.0000\n",
      "Epoch 51/100\n",
      "2000/2000 [==============================] - 0s 102us/step - loss: 0.0040 - acc: 1.0000\n",
      "Epoch 52/100\n",
      "2000/2000 [==============================] - 0s 80us/step - loss: 0.0036 - acc: 1.0000\n",
      "Epoch 53/100\n",
      "2000/2000 [==============================] - 0s 63us/step - loss: 0.0036 - acc: 1.0000\n",
      "Epoch 54/100\n",
      "2000/2000 [==============================] - 0s 57us/step - loss: 0.0032 - acc: 1.0000\n",
      "Epoch 55/100\n",
      "2000/2000 [==============================] - 0s 56us/step - loss: 0.0030 - acc: 1.0000\n",
      "Epoch 56/100\n",
      "2000/2000 [==============================] - 0s 56us/step - loss: 0.0048 - acc: 0.9990\n",
      "Epoch 57/100\n",
      "2000/2000 [==============================] - 0s 58us/step - loss: 0.0040 - acc: 1.0000\n",
      "Epoch 58/100\n",
      "2000/2000 [==============================] - 0s 72us/step - loss: 0.0029 - acc: 1.0000\n",
      "Epoch 59/100\n",
      "2000/2000 [==============================] - 0s 98us/step - loss: 0.0025 - acc: 1.0000\n",
      "Epoch 60/100\n",
      "2000/2000 [==============================] - 0s 102us/step - loss: 0.0024 - acc: 1.0000\n",
      "Epoch 61/100\n",
      "2000/2000 [==============================] - 0s 76us/step - loss: 0.0023 - acc: 1.0000\n",
      "Epoch 62/100\n",
      "2000/2000 [==============================] - 0s 111us/step - loss: 0.0021 - acc: 1.0000\n",
      "Epoch 63/100\n",
      "2000/2000 [==============================] - 0s 114us/step - loss: 0.0021 - acc: 1.0000\n",
      "Epoch 64/100\n",
      "2000/2000 [==============================] - 0s 104us/step - loss: 0.0022 - acc: 1.0000\n",
      "Epoch 65/100\n",
      "2000/2000 [==============================] - 0s 69us/step - loss: 0.0018 - acc: 1.0000\n",
      "Epoch 66/100\n",
      "2000/2000 [==============================] - 0s 66us/step - loss: 0.0018 - acc: 1.0000\n",
      "Epoch 67/100\n",
      "2000/2000 [==============================] - 0s 72us/step - loss: 0.0021 - acc: 1.0000\n",
      "Epoch 68/100\n",
      "2000/2000 [==============================] - 0s 84us/step - loss: 0.0017 - acc: 1.0000\n",
      "Epoch 69/100\n",
      "2000/2000 [==============================] - 0s 84us/step - loss: 0.0015 - acc: 1.0000\n",
      "Epoch 70/100\n",
      "2000/2000 [==============================] - 0s 69us/step - loss: 0.0016 - acc: 1.0000\n",
      "Epoch 71/100\n",
      "2000/2000 [==============================] - 0s 72us/step - loss: 0.0014 - acc: 1.0000\n",
      "Epoch 72/100\n",
      "2000/2000 [==============================] - 0s 98us/step - loss: 0.0014 - acc: 1.0000\n",
      "Epoch 73/100\n",
      "2000/2000 [==============================] - 0s 92us/step - loss: 0.0013 - acc: 1.0000\n",
      "Epoch 74/100\n",
      "2000/2000 [==============================] - 0s 91us/step - loss: 0.0013 - acc: 1.0000\n",
      "Epoch 75/100\n",
      "2000/2000 [==============================] - 0s 93us/step - loss: 0.0012 - acc: 1.0000\n",
      "Epoch 76/100\n",
      "2000/2000 [==============================] - 0s 94us/step - loss: 0.0011 - acc: 1.0000\n",
      "Epoch 77/100\n",
      "2000/2000 [==============================] - 0s 75us/step - loss: 0.0011 - acc: 1.0000\n",
      "Epoch 78/100\n",
      "2000/2000 [==============================] - 0s 92us/step - loss: 0.0012 - acc: 1.0000\n",
      "Epoch 79/100\n",
      "2000/2000 [==============================] - 0s 105us/step - loss: 0.0010 - acc: 1.0000\n",
      "Epoch 80/100\n",
      "2000/2000 [==============================] - 0s 110us/step - loss: 9.9264e-04 - acc: 1.0000\n",
      "Epoch 81/100\n",
      "2000/2000 [==============================] - 0s 80us/step - loss: 9.1643e-04 - acc: 1.0000\n",
      "Epoch 82/100\n"
     ]
    },
    {
     "name": "stdout",
     "output_type": "stream",
     "text": [
      "2000/2000 [==============================] - 0s 66us/step - loss: 9.0430e-04 - acc: 1.0000\n",
      "Epoch 83/100\n",
      "2000/2000 [==============================] - 0s 56us/step - loss: 8.9978e-04 - acc: 1.0000\n",
      "Epoch 84/100\n",
      "2000/2000 [==============================] - 0s 61us/step - loss: 7.9972e-04 - acc: 1.0000\n",
      "Epoch 85/100\n",
      "2000/2000 [==============================] - 0s 104us/step - loss: 8.1431e-04 - acc: 1.0000\n",
      "Epoch 86/100\n",
      "2000/2000 [==============================] - 0s 117us/step - loss: 0.0089 - acc: 0.9975\n",
      "Epoch 87/100\n",
      "2000/2000 [==============================] - 0s 83us/step - loss: 0.0073 - acc: 0.9965\n",
      "Epoch 88/100\n",
      "2000/2000 [==============================] - 0s 66us/step - loss: 0.0010 - acc: 1.0000\n",
      "Epoch 89/100\n",
      "2000/2000 [==============================] - 0s 85us/step - loss: 0.0010 - acc: 1.0000\n",
      "Epoch 90/100\n",
      "2000/2000 [==============================] - 0s 83us/step - loss: 9.5644e-04 - acc: 1.0000\n",
      "Epoch 91/100\n",
      "2000/2000 [==============================] - 0s 75us/step - loss: 9.0645e-04 - acc: 1.0000\n",
      "Epoch 92/100\n",
      "2000/2000 [==============================] - 0s 69us/step - loss: 8.2822e-04 - acc: 1.0000\n",
      "Epoch 93/100\n",
      "2000/2000 [==============================] - 0s 95us/step - loss: 7.7888e-04 - acc: 1.0000\n",
      "Epoch 94/100\n",
      "2000/2000 [==============================] - 0s 70us/step - loss: 7.0707e-04 - acc: 1.0000\n",
      "Epoch 95/100\n",
      "2000/2000 [==============================] - 0s 66us/step - loss: 6.6224e-04 - acc: 1.0000\n",
      "Epoch 96/100\n",
      "2000/2000 [==============================] - 0s 64us/step - loss: 6.1865e-04 - acc: 1.0000\n",
      "Epoch 97/100\n",
      "2000/2000 [==============================] - 0s 64us/step - loss: 5.4896e-04 - acc: 1.0000\n",
      "Epoch 98/100\n",
      "2000/2000 [==============================] - 0s 72us/step - loss: 5.6116e-04 - acc: 1.0000\n",
      "Epoch 99/100\n",
      "2000/2000 [==============================] - 0s 93us/step - loss: 5.7432e-04 - acc: 1.0000\n",
      "Epoch 100/100\n",
      "2000/2000 [==============================] - 0s 86us/step - loss: 5.2196e-04 - acc: 1.0000\n"
     ]
    },
    {
     "data": {
      "text/plain": [
       "<keras.callbacks.History at 0x125617898>"
      ]
     },
     "execution_count": 6,
     "metadata": {},
     "output_type": "execute_result"
    }
   ],
   "source": [
    "model.fit(feat, one_hot_labels, verbose=1, epochs=100)"
   ]
  },
  {
   "cell_type": "code",
   "execution_count": 7,
   "metadata": {
    "ExecuteTime": {
     "end_time": "2018-05-15T06:58:33.290248Z",
     "start_time": "2018-05-15T06:58:33.286439Z"
    },
    "code_folding": [
     0
    ]
   },
   "outputs": [],
   "source": [
    "def get_layer(inp, out, trained_model):\n",
    "    return K.backend.function([trained_model.layers[inp].input], [trained_model.layers[out].output])\n",
    "\n",
    "def tranformations(input_model, data):\n",
    "    activations = []\n",
    "    for i in range(len(input_model.layers)):\n",
    "        out = get_layer(0, i, input_model)\n",
    "        activations.append(out([data]))\n",
    "    return activations"
   ]
  },
  {
   "cell_type": "code",
   "execution_count": 8,
   "metadata": {
    "ExecuteTime": {
     "end_time": "2018-05-15T07:21:21.387962Z",
     "start_time": "2018-05-15T07:21:20.571997Z"
    },
    "scrolled": true
   },
   "outputs": [
    {
     "ename": "InvalidArgumentError",
     "evalue": "input_1:0 is both fed and fetched.",
     "output_type": "error",
     "traceback": [
      "\u001b[0;31m---------------------------------------------------------------------------\u001b[0m",
      "\u001b[0;31mInvalidArgumentError\u001b[0m                      Traceback (most recent call last)",
      "\u001b[0;32m<ipython-input-8-f85b9b934c18>\u001b[0m in \u001b[0;36m<module>\u001b[0;34m()\u001b[0m\n\u001b[0;32m----> 1\u001b[0;31m \u001b[0mactivations\u001b[0m \u001b[0;34m=\u001b[0m \u001b[0mtranformations\u001b[0m\u001b[0;34m(\u001b[0m\u001b[0mmodel\u001b[0m\u001b[0;34m,\u001b[0m \u001b[0mfeat\u001b[0m\u001b[0;34m)\u001b[0m\u001b[0;34m\u001b[0m\u001b[0m\n\u001b[0m\u001b[1;32m      2\u001b[0m \u001b[0mprint\u001b[0m\u001b[0;34m(\u001b[0m\u001b[0mlen\u001b[0m\u001b[0;34m(\u001b[0m\u001b[0mactivations\u001b[0m\u001b[0;34m)\u001b[0m\u001b[0;34m,\u001b[0m \u001b[0mactivations\u001b[0m\u001b[0;34m[\u001b[0m\u001b[0;36m0\u001b[0m\u001b[0;34m]\u001b[0m\u001b[0;34m[\u001b[0m\u001b[0;36m0\u001b[0m\u001b[0;34m]\u001b[0m\u001b[0;34m.\u001b[0m\u001b[0mshape\u001b[0m\u001b[0;34m)\u001b[0m\u001b[0;34m\u001b[0m\u001b[0m\n\u001b[1;32m      3\u001b[0m \u001b[0;31m#new_activations = []\u001b[0m\u001b[0;34m\u001b[0m\u001b[0;34m\u001b[0m\u001b[0m\n\u001b[1;32m      4\u001b[0m \u001b[0;31m#new_activations.extend([activations[1], activations[3]])\u001b[0m\u001b[0;34m\u001b[0m\u001b[0;34m\u001b[0m\u001b[0m\n",
      "\u001b[0;32m<ipython-input-7-f0a857b1ea9b>\u001b[0m in \u001b[0;36mtranformations\u001b[0;34m(input_model, data)\u001b[0m\n\u001b[1;32m      6\u001b[0m     \u001b[0;32mfor\u001b[0m \u001b[0mi\u001b[0m \u001b[0;32min\u001b[0m \u001b[0mrange\u001b[0m\u001b[0;34m(\u001b[0m\u001b[0mlen\u001b[0m\u001b[0;34m(\u001b[0m\u001b[0minput_model\u001b[0m\u001b[0;34m.\u001b[0m\u001b[0mlayers\u001b[0m\u001b[0;34m)\u001b[0m\u001b[0;34m)\u001b[0m\u001b[0;34m:\u001b[0m\u001b[0;34m\u001b[0m\u001b[0m\n\u001b[1;32m      7\u001b[0m         \u001b[0mout\u001b[0m \u001b[0;34m=\u001b[0m \u001b[0mget_layer\u001b[0m\u001b[0;34m(\u001b[0m\u001b[0;36m0\u001b[0m\u001b[0;34m,\u001b[0m \u001b[0mi\u001b[0m\u001b[0;34m,\u001b[0m \u001b[0minput_model\u001b[0m\u001b[0;34m)\u001b[0m\u001b[0;34m\u001b[0m\u001b[0m\n\u001b[0;32m----> 8\u001b[0;31m         \u001b[0mactivations\u001b[0m\u001b[0;34m.\u001b[0m\u001b[0mappend\u001b[0m\u001b[0;34m(\u001b[0m\u001b[0mout\u001b[0m\u001b[0;34m(\u001b[0m\u001b[0;34m[\u001b[0m\u001b[0mdata\u001b[0m\u001b[0;34m]\u001b[0m\u001b[0;34m)\u001b[0m\u001b[0;34m)\u001b[0m\u001b[0;34m\u001b[0m\u001b[0m\n\u001b[0m\u001b[1;32m      9\u001b[0m     \u001b[0;32mreturn\u001b[0m \u001b[0mactivations\u001b[0m\u001b[0;34m\u001b[0m\u001b[0m\n",
      "\u001b[0;32m~/.pyenv/versions/3.6.6/lib/python3.6/site-packages/keras/backend/tensorflow_backend.py\u001b[0m in \u001b[0;36m__call__\u001b[0;34m(self, inputs)\u001b[0m\n\u001b[1;32m   2664\u001b[0m                 \u001b[0;32mreturn\u001b[0m \u001b[0mself\u001b[0m\u001b[0;34m.\u001b[0m\u001b[0m_legacy_call\u001b[0m\u001b[0;34m(\u001b[0m\u001b[0minputs\u001b[0m\u001b[0;34m)\u001b[0m\u001b[0;34m\u001b[0m\u001b[0m\n\u001b[1;32m   2665\u001b[0m \u001b[0;34m\u001b[0m\u001b[0m\n\u001b[0;32m-> 2666\u001b[0;31m             \u001b[0;32mreturn\u001b[0m \u001b[0mself\u001b[0m\u001b[0;34m.\u001b[0m\u001b[0m_call\u001b[0m\u001b[0;34m(\u001b[0m\u001b[0minputs\u001b[0m\u001b[0;34m)\u001b[0m\u001b[0;34m\u001b[0m\u001b[0m\n\u001b[0m\u001b[1;32m   2667\u001b[0m         \u001b[0;32melse\u001b[0m\u001b[0;34m:\u001b[0m\u001b[0;34m\u001b[0m\u001b[0m\n\u001b[1;32m   2668\u001b[0m             \u001b[0;32mif\u001b[0m \u001b[0mpy_any\u001b[0m\u001b[0;34m(\u001b[0m\u001b[0mis_tensor\u001b[0m\u001b[0;34m(\u001b[0m\u001b[0mx\u001b[0m\u001b[0;34m)\u001b[0m \u001b[0;32mfor\u001b[0m \u001b[0mx\u001b[0m \u001b[0;32min\u001b[0m \u001b[0minputs\u001b[0m\u001b[0;34m)\u001b[0m\u001b[0;34m:\u001b[0m\u001b[0;34m\u001b[0m\u001b[0m\n",
      "\u001b[0;32m~/.pyenv/versions/3.6.6/lib/python3.6/site-packages/keras/backend/tensorflow_backend.py\u001b[0m in \u001b[0;36m_call\u001b[0;34m(self, inputs)\u001b[0m\n\u001b[1;32m   2633\u001b[0m                                 \u001b[0mfeed_symbols\u001b[0m\u001b[0;34m,\u001b[0m\u001b[0;34m\u001b[0m\u001b[0m\n\u001b[1;32m   2634\u001b[0m                                 \u001b[0msymbol_vals\u001b[0m\u001b[0;34m,\u001b[0m\u001b[0;34m\u001b[0m\u001b[0m\n\u001b[0;32m-> 2635\u001b[0;31m                                 session)\n\u001b[0m\u001b[1;32m   2636\u001b[0m         \u001b[0mfetched\u001b[0m \u001b[0;34m=\u001b[0m \u001b[0mself\u001b[0m\u001b[0;34m.\u001b[0m\u001b[0m_callable_fn\u001b[0m\u001b[0;34m(\u001b[0m\u001b[0;34m*\u001b[0m\u001b[0marray_vals\u001b[0m\u001b[0;34m)\u001b[0m\u001b[0;34m\u001b[0m\u001b[0m\n\u001b[1;32m   2637\u001b[0m         \u001b[0;32mreturn\u001b[0m \u001b[0mfetched\u001b[0m\u001b[0;34m[\u001b[0m\u001b[0;34m:\u001b[0m\u001b[0mlen\u001b[0m\u001b[0;34m(\u001b[0m\u001b[0mself\u001b[0m\u001b[0;34m.\u001b[0m\u001b[0moutputs\u001b[0m\u001b[0;34m)\u001b[0m\u001b[0;34m]\u001b[0m\u001b[0;34m\u001b[0m\u001b[0m\n",
      "\u001b[0;32m~/.pyenv/versions/3.6.6/lib/python3.6/site-packages/keras/backend/tensorflow_backend.py\u001b[0m in \u001b[0;36m_make_callable\u001b[0;34m(self, feed_arrays, feed_symbols, symbol_vals, session)\u001b[0m\n\u001b[1;32m   2585\u001b[0m         \u001b[0mcallable_opts\u001b[0m\u001b[0;34m.\u001b[0m\u001b[0mtarget\u001b[0m\u001b[0;34m.\u001b[0m\u001b[0mappend\u001b[0m\u001b[0;34m(\u001b[0m\u001b[0mself\u001b[0m\u001b[0;34m.\u001b[0m\u001b[0mupdates_op\u001b[0m\u001b[0;34m.\u001b[0m\u001b[0mname\u001b[0m\u001b[0;34m)\u001b[0m\u001b[0;34m\u001b[0m\u001b[0m\n\u001b[1;32m   2586\u001b[0m         \u001b[0;31m# Create callable.\u001b[0m\u001b[0;34m\u001b[0m\u001b[0;34m\u001b[0m\u001b[0m\n\u001b[0;32m-> 2587\u001b[0;31m         \u001b[0mcallable_fn\u001b[0m \u001b[0;34m=\u001b[0m \u001b[0msession\u001b[0m\u001b[0;34m.\u001b[0m\u001b[0m_make_callable_from_options\u001b[0m\u001b[0;34m(\u001b[0m\u001b[0mcallable_opts\u001b[0m\u001b[0;34m)\u001b[0m\u001b[0;34m\u001b[0m\u001b[0m\n\u001b[0m\u001b[1;32m   2588\u001b[0m         \u001b[0;31m# Cache parameters corresponding to the generated callable, so that\u001b[0m\u001b[0;34m\u001b[0m\u001b[0;34m\u001b[0m\u001b[0m\n\u001b[1;32m   2589\u001b[0m         \u001b[0;31m# we can detect future mismatches and refresh the callable.\u001b[0m\u001b[0;34m\u001b[0m\u001b[0;34m\u001b[0m\u001b[0m\n",
      "\u001b[0;32m~/.pyenv/versions/3.6.6/lib/python3.6/site-packages/tensorflow/python/client/session.py\u001b[0m in \u001b[0;36m_make_callable_from_options\u001b[0;34m(self, callable_options)\u001b[0m\n\u001b[1;32m   1481\u001b[0m     \"\"\"\n\u001b[1;32m   1482\u001b[0m     \u001b[0mself\u001b[0m\u001b[0;34m.\u001b[0m\u001b[0m_extend_graph\u001b[0m\u001b[0;34m(\u001b[0m\u001b[0;34m)\u001b[0m\u001b[0;34m\u001b[0m\u001b[0m\n\u001b[0;32m-> 1483\u001b[0;31m     \u001b[0;32mreturn\u001b[0m \u001b[0mBaseSession\u001b[0m\u001b[0;34m.\u001b[0m\u001b[0m_Callable\u001b[0m\u001b[0;34m(\u001b[0m\u001b[0mself\u001b[0m\u001b[0;34m,\u001b[0m \u001b[0mcallable_options\u001b[0m\u001b[0;34m)\u001b[0m\u001b[0;34m\u001b[0m\u001b[0m\n\u001b[0m\u001b[1;32m   1484\u001b[0m \u001b[0;34m\u001b[0m\u001b[0m\n\u001b[1;32m   1485\u001b[0m \u001b[0;34m\u001b[0m\u001b[0m\n",
      "\u001b[0;32m~/.pyenv/versions/3.6.6/lib/python3.6/site-packages/tensorflow/python/client/session.py\u001b[0m in \u001b[0;36m__init__\u001b[0;34m(self, session, callable_options)\u001b[0m\n\u001b[1;32m   1439\u001b[0m           \u001b[0;32melse\u001b[0m\u001b[0;34m:\u001b[0m\u001b[0;34m\u001b[0m\u001b[0m\n\u001b[1;32m   1440\u001b[0m             self._handle = tf_session.TF_DeprecatedSessionMakeCallable(\n\u001b[0;32m-> 1441\u001b[0;31m                 session._session, options_ptr, status)\n\u001b[0m\u001b[1;32m   1442\u001b[0m       \u001b[0;32mfinally\u001b[0m\u001b[0;34m:\u001b[0m\u001b[0;34m\u001b[0m\u001b[0m\n\u001b[1;32m   1443\u001b[0m         \u001b[0mtf_session\u001b[0m\u001b[0;34m.\u001b[0m\u001b[0mTF_DeleteBuffer\u001b[0m\u001b[0;34m(\u001b[0m\u001b[0moptions_ptr\u001b[0m\u001b[0;34m)\u001b[0m\u001b[0;34m\u001b[0m\u001b[0m\n",
      "\u001b[0;32m~/.pyenv/versions/3.6.6/lib/python3.6/site-packages/tensorflow/python/framework/errors_impl.py\u001b[0m in \u001b[0;36m__exit__\u001b[0;34m(self, type_arg, value_arg, traceback_arg)\u001b[0m\n\u001b[1;32m    517\u001b[0m             \u001b[0;32mNone\u001b[0m\u001b[0;34m,\u001b[0m \u001b[0;32mNone\u001b[0m\u001b[0;34m,\u001b[0m\u001b[0;34m\u001b[0m\u001b[0m\n\u001b[1;32m    518\u001b[0m             \u001b[0mcompat\u001b[0m\u001b[0;34m.\u001b[0m\u001b[0mas_text\u001b[0m\u001b[0;34m(\u001b[0m\u001b[0mc_api\u001b[0m\u001b[0;34m.\u001b[0m\u001b[0mTF_Message\u001b[0m\u001b[0;34m(\u001b[0m\u001b[0mself\u001b[0m\u001b[0;34m.\u001b[0m\u001b[0mstatus\u001b[0m\u001b[0;34m.\u001b[0m\u001b[0mstatus\u001b[0m\u001b[0;34m)\u001b[0m\u001b[0;34m)\u001b[0m\u001b[0;34m,\u001b[0m\u001b[0;34m\u001b[0m\u001b[0m\n\u001b[0;32m--> 519\u001b[0;31m             c_api.TF_GetCode(self.status.status))\n\u001b[0m\u001b[1;32m    520\u001b[0m     \u001b[0;31m# Delete the underlying status object from memory otherwise it stays alive\u001b[0m\u001b[0;34m\u001b[0m\u001b[0;34m\u001b[0m\u001b[0m\n\u001b[1;32m    521\u001b[0m     \u001b[0;31m# as there is a reference to status from this from the traceback due to\u001b[0m\u001b[0;34m\u001b[0m\u001b[0;34m\u001b[0m\u001b[0m\n",
      "\u001b[0;31mInvalidArgumentError\u001b[0m: input_1:0 is both fed and fetched."
     ]
    }
   ],
   "source": [
    "activations = tranformations(model, feat)\n",
    "print(len(activations), activations[0][0].shape)\n",
    "#new_activations = []\n",
    "#new_activations.extend([activations[1], activations[3]])"
   ]
  },
  {
   "cell_type": "code",
   "execution_count": 214,
   "metadata": {
    "ExecuteTime": {
     "end_time": "2018-05-15T07:21:23.520763Z",
     "start_time": "2018-05-15T07:21:23.516062Z"
    }
   },
   "outputs": [],
   "source": [
    "def morphs(activations, labels, skip=2, last_layer=False):\n",
    "    #If last dimension is something other than 2, change it. otherwise 0.\n",
    "    trace_list = []\n",
    "    n_rows = 1 if ((len(activations)) < 10) else -(-len(activations)//10)\n",
    "    print(n_rows)\n",
    "    fig = tools.make_subplots(rows=n_rows, cols=(10))\n",
    "    last_dim = 2 if last_layer==False else 0\n",
    "    for i in range(1, len(activations)-last_dim, skip):\n",
    "        print((-(-i//10)), i%10, i-1, (i//2)+1)\n",
    "        fig.append_trace(go.Scatter(x=activations[i-1][0][:,0], y = activations[i-1][0][:,1] , mode='markers', marker=dict(color=labels)), -(-i//10), (10 if i%10==0 else i%10))\n",
    "    fig['layout'].update(height=n_rows*300)\n",
    "    plot(fig)"
   ]
  },
  {
   "cell_type": "code",
   "execution_count": 220,
   "metadata": {
    "ExecuteTime": {
     "end_time": "2018-05-15T07:27:56.802860Z",
     "start_time": "2018-05-15T07:27:56.536252Z"
    }
   },
   "outputs": [
    {
     "name": "stdout",
     "output_type": "stream",
     "text": [
      "3\n",
      "This is the format of your plot grid:\n",
      "[ (1,1) x1,y1 ]     [ (1,2) x2,y2 ]     [ (1,3) x3,y3 ]     [ (1,4) x4,y4 ]     [ (1,5) x5,y5 ]     [ (1,6) x6,y6 ]     [ (1,7) x7,y7 ]     [ (1,8) x8,y8 ]     [ (1,9) x9,y9 ]     [ (1,10) x10,y10 ]\n",
      "[ (2,1) x11,y11 ]   [ (2,2) x12,y12 ]   [ (2,3) x13,y13 ]   [ (2,4) x14,y14 ]   [ (2,5) x15,y15 ]   [ (2,6) x16,y16 ]   [ (2,7) x17,y17 ]   [ (2,8) x18,y18 ]   [ (2,9) x19,y19 ]   [ (2,10) x20,y20 ]\n",
      "[ (3,1) x21,y21 ]   [ (3,2) x22,y22 ]   [ (3,3) x23,y23 ]   [ (3,4) x24,y24 ]   [ (3,5) x25,y25 ]   [ (3,6) x26,y26 ]   [ (3,7) x27,y27 ]   [ (3,8) x28,y28 ]   [ (3,9) x29,y29 ]   [ (3,10) x30,y30 ]\n",
      "\n",
      "1 1 0 1\n",
      "1 3 2 2\n",
      "1 5 4 3\n",
      "1 7 6 4\n",
      "1 9 8 5\n",
      "2 1 10 6\n",
      "2 3 12 7\n",
      "2 5 14 8\n",
      "2 7 16 9\n",
      "2 9 18 10\n",
      "3 1 20 11\n"
     ]
    }
   ],
   "source": [
    "\n",
    "#print(np.argmax(labels, axis=1))\n",
    "morphs(activations, labels, skip=2, last_dim=0)"
   ]
  },
  {
   "cell_type": "code",
   "execution_count": 235,
   "metadata": {
    "ExecuteTime": {
     "end_time": "2018-05-15T07:45:58.593060Z",
     "start_time": "2018-05-15T07:45:58.584834Z"
    }
   },
   "outputs": [
    {
     "name": "stdout",
     "output_type": "stream",
     "text": [
      "r: 1  ; c: 1 0 0.3333333333333333\n",
      "r: 1  ; c: 2 1 0.6666666666666666\n",
      "r: 1  ; c: 3 2 1.0\n",
      "r: 1  ; c: 4 3 1.3333333333333333\n",
      "r: 1  ; c: 5 4 1.6666666666666667\n",
      "r: 1  ; c: 6 5 2.0\n",
      "r: 1  ; c: 7 6 2.3333333333333335\n",
      "r: 1  ; c: 8 7 2.6666666666666665\n",
      "r: 1  ; c: 9 8 3.0\n",
      "r: 1  ; c: 0 9 3.3333333333333335\n",
      "r: 2  ; c: 1 10 3.6666666666666665\n",
      "r: 2  ; c: 2 11 4.0\n",
      "r: 2  ; c: 3 12 4.333333333333333\n",
      "r: 2  ; c: 4 13 4.666666666666667\n",
      "r: 2  ; c: 5 14 5.0\n",
      "r: 2  ; c: 6 15 5.333333333333333\n",
      "r: 2  ; c: 7 16 5.666666666666667\n",
      "r: 2  ; c: 8 17 6.0\n",
      "r: 2  ; c: 9 18 6.333333333333333\n",
      "r: 2  ; c: 0 19 6.666666666666667\n"
     ]
    }
   ],
   "source": [
    "ski = 1\n",
    "for i in range(1, len(activations)-2, ski):\n",
    "    print('r:',(-(-i//10)), ' ; c:', i%10, i-1, (i/3))"
   ]
  },
  {
   "cell_type": "code",
   "execution_count": null,
   "metadata": {},
   "outputs": [],
   "source": []
  }
 ],
 "metadata": {
  "kernelspec": {
   "display_name": "Python 3",
   "language": "python",
   "name": "python3"
  },
  "language_info": {
   "codemirror_mode": {
    "name": "ipython",
    "version": 3
   },
   "file_extension": ".py",
   "mimetype": "text/x-python",
   "name": "python",
   "nbconvert_exporter": "python",
   "pygments_lexer": "ipython3",
   "version": "3.6.6"
  }
 },
 "nbformat": 4,
 "nbformat_minor": 2
}
